{
 "cells": [
  {
   "cell_type": "markdown",
   "id": "109dc60d",
   "metadata": {},
   "source": [
    "# Preprocessing"
   ]
  },
  {
   "cell_type": "code",
   "execution_count": 95,
   "id": "2951efd8",
   "metadata": {},
   "outputs": [],
   "source": [
    "import pandas as pd\n",
    "from sklearn.preprocessing import OneHotEncoder, LabelEncoder\n",
    "import warnings\n",
    "warnings.filterwarnings(\"ignore\")\n",
    "from sklearn.model_selection import train_test_split\n",
    "from sklearn.feature_extraction.text import TfidfVectorizer\n",
    "from xgboost import XGBClassifier\n",
    "from sklearn.model_selection import GridSearchCV\n",
    "from sklearn.metrics import accuracy_score, precision_score, recall_score, f1_score\n",
    "\n",
    "\n",
    "df_true = pd.read_csv('data/True.csv')\n",
    "df_false = pd.read_csv('data/Fake.csv')\n",
    "\n",
    "\n",
    "# Create a 'label' column indicating true labels as 1 and false labels as 0\n",
    "df_true['label'] = 1\n",
    "df_false['label'] = 0\n",
    "\n",
    "# Concatenate the two datasets\n",
    "df_combined = pd.concat([df_true, df_false], ignore_index=True)\n",
    "\n",
    "\n",
    "# label encode the subject column so that it can be used for the models\n",
    "label_encoder = LabelEncoder()\n",
    "label_encoded = label_encoder.fit_transform(df_combined['subject'])\n",
    "\n",
    "df_combined['new_subject'] = label_encoded\n",
    "X = df_combined[['title', 'text', 'new_subject']]\n",
    "y = df_combined['label']\n",
    "\n",
    "\n",
    "X_train, X_test, y_train, y_test = train_test_split(X, y, test_size=0.2, random_state=42)\n",
    "\n",
    "tfidf_vectorizer = TfidfVectorizer(max_features=1000)  # limiting to 1000 so that it can run\n",
    "X_train_text_tfidf = tfidf_vectorizer.fit_transform(X_train['title'] + ' ' + X_train['text'])\n",
    "X_test_text_tfidf = tfidf_vectorizer.transform(X_test['title'] + ' ' + X_test['text'])\n",
    "\n",
    "X_train_combined = pd.DataFrame(X_train_text_tfidf.toarray())\n",
    "X_test_combined = pd.DataFrame(X_test_text_tfidf.toarray())\n",
    "\n",
    "\n"
   ]
  },
  {
   "cell_type": "markdown",
   "id": "3a3b35a9",
   "metadata": {},
   "source": [
    "# XGBoost"
   ]
  },
  {
   "cell_type": "code",
   "execution_count": 96,
   "id": "0d6f5d83",
   "metadata": {},
   "outputs": [
    {
     "name": "stdout",
     "output_type": "stream",
     "text": [
      "Best XGBoost Parameters: {'learning_rate': 0.2, 'max_depth': 3, 'n_estimators': 200}\n",
      "XGBoost F1 Score: 0.9971128305808985\n"
     ]
    }
   ],
   "source": [
    "\n",
    "xgb_param_grid = {\n",
    "    'n_estimators': [50, 100, 200],\n",
    "    'max_depth': [3, 5, 7],\n",
    "    'learning_rate': [0.01, 0.1, 0.2],\n",
    "}\n",
    "\n",
    "\n",
    "\n",
    "\n",
    "xgb_grid_search = GridSearchCV(XGBClassifier(random_state=42, enable_categorical=True),\n",
    "                               xgb_param_grid, cv=5, scoring='f1')\n",
    "\n",
    "\n",
    "xgb_grid_search.fit(X_train_combined, y_train)\n",
    "\n",
    "\n",
    "best_xgb_params = xgb_grid_search.best_params_\n",
    "\n",
    "\n",
    "best_xgb_model = xgb_grid_search.best_estimator_\n",
    "\n",
    "\n",
    "print(\"Best XGBoost Parameters:\", best_xgb_params)\n",
    "\n",
    "xgb_predictions = best_xgb_model.predict(X_test_combined)\n",
    "\n",
    "\n",
    "xgb_f1 = f1_score(y_test, xgb_predictions)\n",
    "print(\"XGBoost F1 Score:\", xgb_f1)\n"
   ]
  },
  {
   "cell_type": "markdown",
   "id": "0353b2e6",
   "metadata": {},
   "source": [
    "# Decision Tree"
   ]
  },
  {
   "cell_type": "code",
   "execution_count": 97,
   "id": "fe3fe55d",
   "metadata": {
    "scrolled": true
   },
   "outputs": [
    {
     "name": "stdout",
     "output_type": "stream",
     "text": [
      "Best Decision Tree Parameters: {'max_depth': 10, 'min_samples_leaf': 2, 'min_samples_split': 5}\n",
      "Decision Tree F1 Score: 0.9960766212785599\n"
     ]
    }
   ],
   "source": [
    "from sklearn.tree import DecisionTreeClassifier\n",
    "\n",
    "\n",
    "dt_param_grid = {\n",
    "    'max_depth': [None, 5, 10, 15],\n",
    "    'min_samples_split': [2, 5, 10],\n",
    "    'min_samples_leaf': [1, 2, 4],\n",
    "}\n",
    "\n",
    "\n",
    "\n",
    "dt_grid_search = GridSearchCV(DecisionTreeClassifier(random_state=42), dt_param_grid, cv=5, scoring='f1')\n",
    "\n",
    "dt_grid_search.fit(X_train_combined, y_train)\n",
    "\n",
    "best_dt_params = dt_grid_search.best_params_\n",
    "\n",
    "best_dt_model = dt_grid_search.best_estimator_\n",
    "\n",
    "print(\"Best Decision Tree Parameters:\", best_dt_params)\n",
    "\n",
    "dt_predictions = best_dt_model.predict(X_test_combined)\n",
    "\n",
    "\n",
    "dt_f1 = f1_score(y_test, dt_predictions)\n",
    "print(\"Decision Tree F1 Score:\", dt_f1)\n"
   ]
  },
  {
   "cell_type": "code",
   "execution_count": null,
   "id": "484aff3d",
   "metadata": {},
   "outputs": [],
   "source": []
  }
 ],
 "metadata": {
  "kernelspec": {
   "display_name": "Python 3 (ipykernel)",
   "language": "python",
   "name": "python3"
  },
  "language_info": {
   "codemirror_mode": {
    "name": "ipython",
    "version": 3
   },
   "file_extension": ".py",
   "mimetype": "text/x-python",
   "name": "python",
   "nbconvert_exporter": "python",
   "pygments_lexer": "ipython3",
   "version": "3.9.7"
  }
 },
 "nbformat": 4,
 "nbformat_minor": 5
}
