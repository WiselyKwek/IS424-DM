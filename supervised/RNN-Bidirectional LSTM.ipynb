{
 "cells": [
  {
   "cell_type": "code",
   "execution_count": 3,
   "id": "0096e013",
   "metadata": {},
   "outputs": [
    {
     "name": "stderr",
     "output_type": "stream",
     "text": [
      "[nltk_data] Downloading package stopwords to\n",
      "[nltk_data]     C:\\Users\\weede\\AppData\\Roaming\\nltk_data...\n",
      "[nltk_data]   Package stopwords is already up-to-date!\n",
      "[nltk_data] Downloading package wordnet to\n",
      "[nltk_data]     C:\\Users\\weede\\AppData\\Roaming\\nltk_data...\n",
      "[nltk_data]   Package wordnet is already up-to-date!\n",
      "[nltk_data] Downloading package omw-1.4 to\n",
      "[nltk_data]     C:\\Users\\weede\\AppData\\Roaming\\nltk_data...\n",
      "[nltk_data]   Package omw-1.4 is already up-to-date!\n"
     ]
    },
    {
     "data": {
      "text/plain": [
       "True"
      ]
     },
     "execution_count": 3,
     "metadata": {},
     "output_type": "execute_result"
    }
   ],
   "source": [
    "# Preprocessing\n",
    "import re\n",
    "import nltk\n",
    "import string\n",
    "import warnings\n",
    "import numpy as np\n",
    "import pandas as pd\n",
    "import seaborn as sns\n",
    "import matplotlib.pyplot as plt\n",
    "warnings.filterwarnings(\"ignore\")\n",
    "from nltk.corpus import stopwords\n",
    "from nltk.tokenize import word_tokenize\n",
    "from keras.preprocessing.text import Tokenizer\n",
    "from sklearn.model_selection import train_test_split\n",
    "nltk.download('stopwords')\n",
    "nltk.download('wordnet')\n",
    "nltk.download('omw-1.4')"
   ]
  },
  {
   "cell_type": "code",
   "execution_count": 4,
   "id": "b2e178c1",
   "metadata": {},
   "outputs": [],
   "source": [
    "fake_df = pd.read_csv(\"../data/Fake.csv\")\n",
    "true_df = pd.read_csv(\"../data/True.csv\")\n",
    "\n",
    "# create new column that combines title and text together called title_text_combined\n",
    "true_df['title_text_combined'] = true_df['title'] + \" \" + true_df['text']\n",
    "# add response column and set to 1 for true dataset\n",
    "true_df[\"response\"] = 1\n",
    "\n",
    "# create new column that combines title and text together called title_text_combined\n",
    "fake_df['title_text_combined'] = fake_df['title'] + \" \" + fake_df['text']\n",
    "# add response column and set to 1 for true dataset\n",
    "fake_df[\"response\"] = 0\n",
    "\n",
    "# remove title, text, subject and date columns\n",
    "fake_df.drop([\"title\", \"text\", \"subject\",\"date\"],axis = 1,inplace = True)\n",
    "true_df.drop([\"title\", \"text\", \"subject\",\"date\"],axis = 1,inplace = True)\n",
    "\n",
    "def preprocess_text(text):\n",
    "    text = text.lower()\n",
    "    text = text.translate(str.maketrans('', '', string.punctuation))\n",
    "    words = word_tokenize(text)\n",
    "    words = [word for word in words if word.isalpha()]\n",
    "    stop_words = set(stopwords.words('english'))\n",
    "    words = [word for word in words if not word in stop_words]\n",
    "    return ' '.join(words)\n",
    "\n",
    "# merging fake and true dataframes together\n",
    "merged_df = pd.concat([true_df, fake_df], ignore_index=True)\n",
    "merged_df['title_text_combined'] = merged_df['title_text_combined'].apply(preprocess_text)\n",
    "\n",
    "X = merged_df['title_text_combined'].values\n",
    "Y = merged_df['response'].values\n",
    "\n",
    "# start splitting data into test and train sets\n",
    "x_train, x_test, y_train, y_test = train_test_split(X, Y, test_size=0.2,stratify=Y, random_state=42)\n",
    "x_train.shape,y_train.shape,x_test.shape,y_test.shape\n",
    "\n",
    "# Tokenize the text data\n",
    "max_words = 10000  #  Maximum number of words to consider\n",
    "tokenizer = Tokenizer(num_words=max_words)\n",
    "tokenizer.fit_on_texts(x_train)\n",
    "x_train_tokens = tokenizer.texts_to_sequences(x_train)\n",
    "x_test_tokens = tokenizer.texts_to_sequences(x_test)"
   ]
  },
  {
   "cell_type": "code",
   "execution_count": 5,
   "id": "348cd628",
   "metadata": {},
   "outputs": [
    {
     "name": "stdout",
     "output_type": "stream",
     "text": [
      "Epoch 1/10\n",
      "898/898 [==============================] - 205s 225ms/step - loss: 0.0726 - accuracy: 0.9788 - val_loss: 0.0118 - val_accuracy: 0.9967\n",
      "Epoch 2/10\n",
      "898/898 [==============================] - 197s 220ms/step - loss: 0.0062 - accuracy: 0.9981 - val_loss: 0.0080 - val_accuracy: 0.9976\n",
      "Epoch 3/10\n",
      "898/898 [==============================] - 200s 222ms/step - loss: 0.0020 - accuracy: 0.9996 - val_loss: 0.0101 - val_accuracy: 0.9965\n",
      "Epoch 4/10\n",
      "898/898 [==============================] - 201s 224ms/step - loss: 0.0060 - accuracy: 0.9992 - val_loss: 0.0774 - val_accuracy: 0.9876\n",
      "Epoch 5/10\n",
      "898/898 [==============================] - 194s 216ms/step - loss: 0.0084 - accuracy: 0.9977 - val_loss: 0.0168 - val_accuracy: 0.9961\n",
      "Epoch 6/10\n",
      "898/898 [==============================] - 194s 216ms/step - loss: 0.0038 - accuracy: 0.9991 - val_loss: 0.0232 - val_accuracy: 0.9942\n",
      "Epoch 7/10\n",
      "898/898 [==============================] - 196s 218ms/step - loss: 0.0028 - accuracy: 0.9994 - val_loss: 0.0305 - val_accuracy: 0.9939\n",
      "Epoch 8/10\n",
      "898/898 [==============================] - 184s 204ms/step - loss: 0.0049 - accuracy: 0.9991 - val_loss: 0.0206 - val_accuracy: 0.9940\n",
      "Epoch 9/10\n",
      "898/898 [==============================] - 172s 192ms/step - loss: 0.0043 - accuracy: 0.9990 - val_loss: 0.0147 - val_accuracy: 0.9958\n",
      "Epoch 10/10\n",
      "898/898 [==============================] - 177s 197ms/step - loss: 7.7267e-04 - accuracy: 0.9998 - val_loss: 0.0155 - val_accuracy: 0.9957\n",
      "281/281 [==============================] - 18s 65ms/step - loss: 0.0098 - accuracy: 0.9977\n",
      "Test Accuracy: 0.9976614713668823\n"
     ]
    }
   ],
   "source": [
    "# RNN-Bidirectional LSTM\n",
    "\n",
    "import numpy as np\n",
    "from keras.preprocessing import sequence\n",
    "from keras.models import Sequential\n",
    "from keras.layers import Dense, Dropout, Embedding, LSTM, Bidirectional\n",
    "\n",
    "embedding_dim = 50\n",
    "\n",
    "# length of the longest sentence in dataset\n",
    "max_length = 500\n",
    "\n",
    "# To fit the data into any neural network, we need to convert the data into sequence matrices\n",
    "x_train_padded = sequence.pad_sequences(x_train_tokens,maxlen=max_length,padding='post')\n",
    "x_test_padded = sequence.pad_sequences(x_test_tokens,maxlen=max_length,padding='post')\n",
    "\n",
    "# Define model\n",
    "model = Sequential([\n",
    "    Embedding(max_words, embedding_dim, input_length=max_length),\n",
    "    Bidirectional(LSTM(64)),\n",
    "    Dense(1, activation='sigmoid')\n",
    "])\n",
    "\n",
    "# Compile model\n",
    "model.compile(loss='binary_crossentropy', optimizer='adam', metrics=['accuracy'])\n",
    "\n",
    "# Train model\n",
    "history = model.fit(x_train_padded, y_train, epochs=10, validation_split=0.2)\n",
    "\n",
    "# Evaluate model\n",
    "test_loss, test_acc = model.evaluate(x_test_padded, y_test)\n",
    "print('Test Accuracy:', test_acc)"
   ]
  },
  {
   "cell_type": "code",
   "execution_count": 6,
   "id": "a8849f18",
   "metadata": {},
   "outputs": [
    {
     "data": {
      "image/png": "[encoded data removed]",
      "text/plain": [
       "<Figure size 432x288 with 1 Axes>"
      ]
     },
     "metadata": {
      "needs_background": "light"
     },
     "output_type": "display_data"
    }
   ],
   "source": [
    "from matplotlib import pyplot\n",
    "pyplot.plot(history.history['loss'])\n",
    "pyplot.plot(history.history['accuracy'])\n",
    "pyplot.title('model loss vs accuracy')\n",
    "pyplot.xlabel('epoch')\n",
    "pyplot.legend(['loss', 'accuracy'], loc='upper right')\n",
    "pyplot.show()"
   ]
  }
 ],
 "metadata": {
  "kernelspec": {
   "display_name": "Python 3",
   "language": "python",
   "name": "python3"
  },
  "language_info": {
   "codemirror_mode": {
    "name": "ipython",
    "version": 3
   },
   "file_extension": ".py",
   "mimetype": "text/x-python",
   "name": "python",
   "nbconvert_exporter": "python",
   "pygments_lexer": "ipython3",
   "version": "3.8.8"
  }
 },
 "nbformat": 4,
 "nbformat_minor": 5
}
