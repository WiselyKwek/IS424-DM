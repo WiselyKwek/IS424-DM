{
 "cells": [
  {
   "cell_type": "code",
   "execution_count": null,
   "metadata": {},
   "outputs": [],
   "source": []
  },
  {
   "cell_type": "code",
   "execution_count": 13,
   "metadata": {},
   "outputs": [
    {
     "name": "stderr",
     "output_type": "stream",
     "text": [
      "[nltk_data] Downloading package punkt to C:\\Users\\WJA-\n",
      "[nltk_data]     Laptop\\AppData\\Roaming\\nltk_data...\n",
      "[nltk_data]   Package punkt is already up-to-date!\n",
      "[nltk_data] Downloading package stopwords to C:\\Users\\WJA-\n",
      "[nltk_data]     Laptop\\AppData\\Roaming\\nltk_data...\n",
      "[nltk_data]   Package stopwords is already up-to-date!\n"
     ]
    },
    {
     "data": {
      "text/plain": [
       "True"
      ]
     },
     "execution_count": 13,
     "metadata": {},
     "output_type": "execute_result"
    }
   ],
   "source": [
    "import pandas as pd\n",
    "import string\n",
    "import nltk\n",
    "from nltk.corpus import stopwords\n",
    "from nltk.tokenize import word_tokenize\n",
    "from keras.preprocessing.text import Tokenizer\n",
    "from keras.preprocessing.sequence import pad_sequences\n",
    "from sklearn.model_selection import train_test_split\n",
    "from keras.models import Sequential\n",
    "from keras.layers import Embedding, Conv1D, MaxPooling1D, LSTM, Dense, Dropout, BatchNormalization\n",
    "nltk.download('punkt')\n",
    "nltk.download('stopwords')"
   ]
  },
  {
   "cell_type": "code",
   "execution_count": 14,
   "metadata": {},
   "outputs": [],
   "source": [
    "# Load the data\n",
    "true_data = pd.read_csv(\"../data/True.csv\")\n",
    "false_data = pd.read_csv(\"../data/Fake.csv\")\n",
    "\n",
    "true_data['label'] = 1\n",
    "false_data['label'] = 0\n",
    "data = pd.concat([true_data, false_data], ignore_index=True)\n",
    "\n",
    "def preprocess_text(text):\n",
    "    text = text.lower()\n",
    "    text = text.translate(str.maketrans('', '', string.punctuation))\n",
    "    words = word_tokenize(text)\n",
    "    words = [word for word in words if word.isalpha()]\n",
    "    stop_words = set(stopwords.words('english'))\n",
    "    words = [word for word in words if not word in stop_words]\n",
    "    return ' '.join(words)\n",
    "\n",
    "data['title'] = data['title'].apply(preprocess_text)\n",
    "data['text'] = data['text'].apply(preprocess_text)\n",
    "\n",
    "tokenizer = Tokenizer()\n",
    "tokenizer.fit_on_texts(data['title'] + ' ' + data['text'])\n",
    "sequences = tokenizer.texts_to_sequences(data['title'] + ' ' + data['text'])\n",
    "max_length = 100\n",
    "padded_sequences = pad_sequences(sequences, maxlen=max_length, padding='post')\n",
    "\n",
    "# Splitting data\n",
    "X_train, X_test, y_train, y_test = train_test_split(padded_sequences, data['label'], test_size=0.2, random_state=42)\n",
    "X_train, X_val, y_train, y_val = train_test_split(X_train, y_train, test_size=0.2, random_state=42)"
   ]
  },
  {
   "cell_type": "code",
   "execution_count": 15,
   "metadata": {},
   "outputs": [
    {
     "name": "stdout",
     "output_type": "stream",
     "text": [
      "Epoch 1/10\n",
      "225/225 [==============================] - 52s 220ms/step - loss: 0.6685 - accuracy: 0.8729 - val_loss: 0.2735 - val_accuracy: 0.9523\n",
      "Epoch 2/10\n",
      "225/225 [==============================] - 49s 220ms/step - loss: 0.0982 - accuracy: 0.9798 - val_loss: 0.1388 - val_accuracy: 0.9648\n",
      "Epoch 3/10\n",
      "225/225 [==============================] - 50s 220ms/step - loss: 0.0567 - accuracy: 0.9902 - val_loss: 0.3114 - val_accuracy: 0.9038\n",
      "Epoch 4/10\n",
      "225/225 [==============================] - 52s 233ms/step - loss: 0.0412 - accuracy: 0.9938 - val_loss: 0.1423 - val_accuracy: 0.9720\n",
      "Epoch 5/10\n",
      "225/225 [==============================] - 51s 226ms/step - loss: 0.0228 - accuracy: 0.9983 - val_loss: 0.1358 - val_accuracy: 0.9736\n",
      "Epoch 6/10\n",
      "225/225 [==============================] - 50s 220ms/step - loss: 0.0200 - accuracy: 0.9985 - val_loss: 0.1749 - val_accuracy: 0.9733\n",
      "Epoch 7/10\n",
      "225/225 [==============================] - 49s 220ms/step - loss: 0.0183 - accuracy: 0.9987 - val_loss: 0.1668 - val_accuracy: 0.9737\n",
      "Epoch 8/10\n",
      "225/225 [==============================] - 50s 221ms/step - loss: 0.0176 - accuracy: 0.9989 - val_loss: 0.1912 - val_accuracy: 0.9723\n",
      "Epoch 9/10\n",
      "225/225 [==============================] - 52s 230ms/step - loss: 0.0177 - accuracy: 0.9989 - val_loss: 0.1861 - val_accuracy: 0.9723\n",
      "Epoch 10/10\n",
      "225/225 [==============================] - 49s 217ms/step - loss: 0.0175 - accuracy: 0.9989 - val_loss: 0.1856 - val_accuracy: 0.9736\n",
      "281/281 [==============================] - 2s 6ms/step - loss: 0.1235 - accuracy: 0.9796\n",
      "Loss: 0.12351703643798828, Accuracy: 0.979621410369873\n"
     ]
    }
   ],
   "source": [
    "vocab_size = len(tokenizer.word_index) + 1\n",
    "embedding_dim = 100\n",
    "\n",
    "model = Sequential()\n",
    "model.add(Embedding(vocab_size, embedding_dim, input_length=max_length))\n",
    "model.add(Conv1D(128, 5, activation='relu'))\n",
    "model.add(MaxPooling1D(pool_size=4))\n",
    "model.add(Dropout(0.2))  # Add dropout for regularization\n",
    "model.add(LSTM(100, dropout=0.2, recurrent_dropout=0.2))\n",
    "model.add(Dense(1, activation='sigmoid'))\n",
    "\n",
    "# Add batch normalization after Conv1D and LSTM layers\n",
    "model.add(BatchNormalization())\n",
    "\n",
    "model.compile(loss='binary_crossentropy', optimizer='adam', metrics=['accuracy'])\n",
    "\n",
    "# Train the model with the augmented data\n",
    "model.fit(X_train, y_train, validation_data=(X_val, y_val), epochs=10, batch_size=128)\n",
    "\n",
    "# Evaluate the model on the test set\n",
    "loss, accuracy = model.evaluate(X_test, y_test)\n",
    "print(f'Loss: {loss}, Accuracy: {accuracy}')"
   ]
  }
 ],
 "metadata": {
  "kernelspec": {
   "display_name": "Python 3",
   "language": "python",
   "name": "python3"
  },
  "language_info": {
   "codemirror_mode": {
    "name": "ipython",
    "version": 3
   },
   "file_extension": ".py",
   "mimetype": "text/x-python",
   "name": "python",
   "nbconvert_exporter": "python",
   "pygments_lexer": "ipython3",
   "version": "3.11.1"
  }
 },
 "nbformat": 4,
 "nbformat_minor": 2
}
