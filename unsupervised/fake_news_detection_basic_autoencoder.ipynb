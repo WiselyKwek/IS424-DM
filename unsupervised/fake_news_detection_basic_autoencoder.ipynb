{
 "cells": [
  {
   "cell_type": "code",
   "execution_count": 1,
   "id": "6c0e7485",
   "metadata": {
    "id": "6c0e7485"
   },
   "outputs": [
    {
     "name": "stderr",
     "output_type": "stream",
     "text": [
      "/Users/rithvik17/opt/anaconda3/lib/python3.8/site-packages/pandas/core/computation/expressions.py:20: UserWarning: Pandas requires version '2.7.3' or newer of 'numexpr' (version '2.7.1' currently installed).\n",
      "  from pandas.core.computation.check import NUMEXPR_INSTALLED\n"
     ]
    }
   ],
   "source": [
    "import re\n",
    "import nltk\n",
    "import string\n",
    "import warnings\n",
    "import numpy as np\n",
    "import pandas as pd\n",
    "import seaborn as sns\n",
    "import matplotlib.pyplot as plt\n",
    "warnings.filterwarnings(\"ignore\")"
   ]
  },
  {
   "cell_type": "code",
   "execution_count": 2,
   "id": "2c416382",
   "metadata": {
    "colab": {
     "base_uri": "https://localhost:8080/"
    },
    "id": "2c416382",
    "outputId": "a67f31d1-586c-4f3f-a768-fcbb2d6138f6"
   },
   "outputs": [
    {
     "name": "stderr",
     "output_type": "stream",
     "text": [
      "[nltk_data] Downloading package punkt to /Users/rithvik17/nltk_data...\n",
      "[nltk_data]   Package punkt is already up-to-date!\n",
      "[nltk_data] Downloading package stopwords to\n",
      "[nltk_data]     /Users/rithvik17/nltk_data...\n",
      "[nltk_data]   Package stopwords is already up-to-date!\n",
      "[nltk_data] Downloading package wordnet to\n",
      "[nltk_data]     /Users/rithvik17/nltk_data...\n",
      "[nltk_data]   Package wordnet is already up-to-date!\n",
      "[nltk_data] Downloading package omw-1.4 to\n",
      "[nltk_data]     /Users/rithvik17/nltk_data...\n",
      "[nltk_data]   Package omw-1.4 is already up-to-date!\n"
     ]
    },
    {
     "data": {
      "text/plain": [
       "True"
      ]
     },
     "execution_count": 2,
     "metadata": {},
     "output_type": "execute_result"
    }
   ],
   "source": [
    "import re\n",
    "import nltk\n",
    "import string\n",
    "import warnings\n",
    "import numpy as np\n",
    "import pandas as pd\n",
    "import seaborn as sns\n",
    "import matplotlib.pyplot as plt\n",
    "warnings.filterwarnings(\"ignore\")\n",
    "from nltk.corpus import stopwords\n",
    "from nltk.tokenize import word_tokenize\n",
    "from nltk.stem import WordNetLemmatizer\n",
    "from keras.preprocessing.text import Tokenizer\n",
    "from sklearn.model_selection import train_test_split\n",
    "from sklearn.ensemble import RandomForestClassifier\n",
    "nltk.download('punkt')\n",
    "nltk.download('stopwords')\n",
    "nltk.download('wordnet')\n",
    "\n",
    "nltk.download('omw-1.4')"
   ]
  },
  {
   "cell_type": "code",
   "execution_count": 3,
   "id": "e6c1d978",
   "metadata": {
    "colab": {
     "base_uri": "https://localhost:8080/",
     "height": 423
    },
    "id": "e6c1d978",
    "outputId": "27b66bdd-f3a1-44fc-d571-b67f99ae888c"
   },
   "outputs": [
    {
     "data": {
      "text/html": [
       "<div>\n",
       "<style scoped>\n",
       "    .dataframe tbody tr th:only-of-type {\n",
       "        vertical-align: middle;\n",
       "    }\n",
       "\n",
       "    .dataframe tbody tr th {\n",
       "        vertical-align: top;\n",
       "    }\n",
       "\n",
       "    .dataframe thead th {\n",
       "        text-align: right;\n",
       "    }\n",
       "</style>\n",
       "<table border=\"1\" class=\"dataframe\">\n",
       "  <thead>\n",
       "    <tr style=\"text-align: right;\">\n",
       "      <th></th>\n",
       "      <th>title</th>\n",
       "      <th>text</th>\n",
       "      <th>subject</th>\n",
       "      <th>date</th>\n",
       "    </tr>\n",
       "  </thead>\n",
       "  <tbody>\n",
       "    <tr>\n",
       "      <th>0</th>\n",
       "      <td>Donald Trump Sends Out Embarrassing New Year’...</td>\n",
       "      <td>Donald Trump just couldn t wish all Americans ...</td>\n",
       "      <td>News</td>\n",
       "      <td>December 31, 2017</td>\n",
       "    </tr>\n",
       "    <tr>\n",
       "      <th>1</th>\n",
       "      <td>Drunk Bragging Trump Staffer Started Russian ...</td>\n",
       "      <td>House Intelligence Committee Chairman Devin Nu...</td>\n",
       "      <td>News</td>\n",
       "      <td>December 31, 2017</td>\n",
       "    </tr>\n",
       "    <tr>\n",
       "      <th>2</th>\n",
       "      <td>Sheriff David Clarke Becomes An Internet Joke...</td>\n",
       "      <td>On Friday, it was revealed that former Milwauk...</td>\n",
       "      <td>News</td>\n",
       "      <td>December 30, 2017</td>\n",
       "    </tr>\n",
       "    <tr>\n",
       "      <th>3</th>\n",
       "      <td>Trump Is So Obsessed He Even Has Obama’s Name...</td>\n",
       "      <td>On Christmas day, Donald Trump announced that ...</td>\n",
       "      <td>News</td>\n",
       "      <td>December 29, 2017</td>\n",
       "    </tr>\n",
       "    <tr>\n",
       "      <th>4</th>\n",
       "      <td>Pope Francis Just Called Out Donald Trump Dur...</td>\n",
       "      <td>Pope Francis used his annual Christmas Day mes...</td>\n",
       "      <td>News</td>\n",
       "      <td>December 25, 2017</td>\n",
       "    </tr>\n",
       "    <tr>\n",
       "      <th>...</th>\n",
       "      <td>...</td>\n",
       "      <td>...</td>\n",
       "      <td>...</td>\n",
       "      <td>...</td>\n",
       "    </tr>\n",
       "    <tr>\n",
       "      <th>23476</th>\n",
       "      <td>McPain: John McCain Furious That Iran Treated ...</td>\n",
       "      <td>21st Century Wire says As 21WIRE reported earl...</td>\n",
       "      <td>Middle-east</td>\n",
       "      <td>January 16, 2016</td>\n",
       "    </tr>\n",
       "    <tr>\n",
       "      <th>23477</th>\n",
       "      <td>JUSTICE? Yahoo Settles E-mail Privacy Class-ac...</td>\n",
       "      <td>21st Century Wire says It s a familiar theme. ...</td>\n",
       "      <td>Middle-east</td>\n",
       "      <td>January 16, 2016</td>\n",
       "    </tr>\n",
       "    <tr>\n",
       "      <th>23478</th>\n",
       "      <td>Sunnistan: US and Allied ‘Safe Zone’ Plan to T...</td>\n",
       "      <td>Patrick Henningsen  21st Century WireRemember ...</td>\n",
       "      <td>Middle-east</td>\n",
       "      <td>January 15, 2016</td>\n",
       "    </tr>\n",
       "    <tr>\n",
       "      <th>23479</th>\n",
       "      <td>How to Blow $700 Million: Al Jazeera America F...</td>\n",
       "      <td>21st Century Wire says Al Jazeera America will...</td>\n",
       "      <td>Middle-east</td>\n",
       "      <td>January 14, 2016</td>\n",
       "    </tr>\n",
       "    <tr>\n",
       "      <th>23480</th>\n",
       "      <td>10 U.S. Navy Sailors Held by Iranian Military ...</td>\n",
       "      <td>21st Century Wire says As 21WIRE predicted in ...</td>\n",
       "      <td>Middle-east</td>\n",
       "      <td>January 12, 2016</td>\n",
       "    </tr>\n",
       "  </tbody>\n",
       "</table>\n",
       "<p>23481 rows × 4 columns</p>\n",
       "</div>"
      ],
      "text/plain": [
       "                                                   title  \\\n",
       "0       Donald Trump Sends Out Embarrassing New Year’...   \n",
       "1       Drunk Bragging Trump Staffer Started Russian ...   \n",
       "2       Sheriff David Clarke Becomes An Internet Joke...   \n",
       "3       Trump Is So Obsessed He Even Has Obama’s Name...   \n",
       "4       Pope Francis Just Called Out Donald Trump Dur...   \n",
       "...                                                  ...   \n",
       "23476  McPain: John McCain Furious That Iran Treated ...   \n",
       "23477  JUSTICE? Yahoo Settles E-mail Privacy Class-ac...   \n",
       "23478  Sunnistan: US and Allied ‘Safe Zone’ Plan to T...   \n",
       "23479  How to Blow $700 Million: Al Jazeera America F...   \n",
       "23480  10 U.S. Navy Sailors Held by Iranian Military ...   \n",
       "\n",
       "                                                    text      subject  \\\n",
       "0      Donald Trump just couldn t wish all Americans ...         News   \n",
       "1      House Intelligence Committee Chairman Devin Nu...         News   \n",
       "2      On Friday, it was revealed that former Milwauk...         News   \n",
       "3      On Christmas day, Donald Trump announced that ...         News   \n",
       "4      Pope Francis used his annual Christmas Day mes...         News   \n",
       "...                                                  ...          ...   \n",
       "23476  21st Century Wire says As 21WIRE reported earl...  Middle-east   \n",
       "23477  21st Century Wire says It s a familiar theme. ...  Middle-east   \n",
       "23478  Patrick Henningsen  21st Century WireRemember ...  Middle-east   \n",
       "23479  21st Century Wire says Al Jazeera America will...  Middle-east   \n",
       "23480  21st Century Wire says As 21WIRE predicted in ...  Middle-east   \n",
       "\n",
       "                    date  \n",
       "0      December 31, 2017  \n",
       "1      December 31, 2017  \n",
       "2      December 30, 2017  \n",
       "3      December 29, 2017  \n",
       "4      December 25, 2017  \n",
       "...                  ...  \n",
       "23476   January 16, 2016  \n",
       "23477   January 16, 2016  \n",
       "23478   January 15, 2016  \n",
       "23479   January 14, 2016  \n",
       "23480   January 12, 2016  \n",
       "\n",
       "[23481 rows x 4 columns]"
      ]
     },
     "execution_count": 3,
     "metadata": {},
     "output_type": "execute_result"
    }
   ],
   "source": [
    "fake_df = pd.read_csv(\"Fake.csv\")\n",
    "fake_df"
   ]
  },
  {
   "cell_type": "code",
   "execution_count": 4,
   "id": "20859486",
   "metadata": {
    "colab": {
     "base_uri": "https://localhost:8080/",
     "height": 423
    },
    "id": "20859486",
    "outputId": "9d1acb1e-831b-4283-9096-2a3cd59e58c2"
   },
   "outputs": [
    {
     "data": {
      "text/html": [
       "<div>\n",
       "<style scoped>\n",
       "    .dataframe tbody tr th:only-of-type {\n",
       "        vertical-align: middle;\n",
       "    }\n",
       "\n",
       "    .dataframe tbody tr th {\n",
       "        vertical-align: top;\n",
       "    }\n",
       "\n",
       "    .dataframe thead th {\n",
       "        text-align: right;\n",
       "    }\n",
       "</style>\n",
       "<table border=\"1\" class=\"dataframe\">\n",
       "  <thead>\n",
       "    <tr style=\"text-align: right;\">\n",
       "      <th></th>\n",
       "      <th>title</th>\n",
       "      <th>text</th>\n",
       "      <th>subject</th>\n",
       "      <th>date</th>\n",
       "    </tr>\n",
       "  </thead>\n",
       "  <tbody>\n",
       "    <tr>\n",
       "      <th>0</th>\n",
       "      <td>As U.S. budget fight looms, Republicans flip t...</td>\n",
       "      <td>WASHINGTON (Reuters) - The head of a conservat...</td>\n",
       "      <td>politicsNews</td>\n",
       "      <td>December 31, 2017</td>\n",
       "    </tr>\n",
       "    <tr>\n",
       "      <th>1</th>\n",
       "      <td>U.S. military to accept transgender recruits o...</td>\n",
       "      <td>WASHINGTON (Reuters) - Transgender people will...</td>\n",
       "      <td>politicsNews</td>\n",
       "      <td>December 29, 2017</td>\n",
       "    </tr>\n",
       "    <tr>\n",
       "      <th>2</th>\n",
       "      <td>Senior U.S. Republican senator: 'Let Mr. Muell...</td>\n",
       "      <td>WASHINGTON (Reuters) - The special counsel inv...</td>\n",
       "      <td>politicsNews</td>\n",
       "      <td>December 31, 2017</td>\n",
       "    </tr>\n",
       "    <tr>\n",
       "      <th>3</th>\n",
       "      <td>FBI Russia probe helped by Australian diplomat...</td>\n",
       "      <td>WASHINGTON (Reuters) - Trump campaign adviser ...</td>\n",
       "      <td>politicsNews</td>\n",
       "      <td>December 30, 2017</td>\n",
       "    </tr>\n",
       "    <tr>\n",
       "      <th>4</th>\n",
       "      <td>Trump wants Postal Service to charge 'much mor...</td>\n",
       "      <td>SEATTLE/WASHINGTON (Reuters) - President Donal...</td>\n",
       "      <td>politicsNews</td>\n",
       "      <td>December 29, 2017</td>\n",
       "    </tr>\n",
       "    <tr>\n",
       "      <th>...</th>\n",
       "      <td>...</td>\n",
       "      <td>...</td>\n",
       "      <td>...</td>\n",
       "      <td>...</td>\n",
       "    </tr>\n",
       "    <tr>\n",
       "      <th>21412</th>\n",
       "      <td>'Fully committed' NATO backs new U.S. approach...</td>\n",
       "      <td>BRUSSELS (Reuters) - NATO allies on Tuesday we...</td>\n",
       "      <td>worldnews</td>\n",
       "      <td>August 22, 2017</td>\n",
       "    </tr>\n",
       "    <tr>\n",
       "      <th>21413</th>\n",
       "      <td>LexisNexis withdrew two products from Chinese ...</td>\n",
       "      <td>LONDON (Reuters) - LexisNexis, a provider of l...</td>\n",
       "      <td>worldnews</td>\n",
       "      <td>August 22, 2017</td>\n",
       "    </tr>\n",
       "    <tr>\n",
       "      <th>21414</th>\n",
       "      <td>Minsk cultural hub becomes haven from authorities</td>\n",
       "      <td>MINSK (Reuters) - In the shadow of disused Sov...</td>\n",
       "      <td>worldnews</td>\n",
       "      <td>August 22, 2017</td>\n",
       "    </tr>\n",
       "    <tr>\n",
       "      <th>21415</th>\n",
       "      <td>Vatican upbeat on possibility of Pope Francis ...</td>\n",
       "      <td>MOSCOW (Reuters) - Vatican Secretary of State ...</td>\n",
       "      <td>worldnews</td>\n",
       "      <td>August 22, 2017</td>\n",
       "    </tr>\n",
       "    <tr>\n",
       "      <th>21416</th>\n",
       "      <td>Indonesia to buy $1.14 billion worth of Russia...</td>\n",
       "      <td>JAKARTA (Reuters) - Indonesia will buy 11 Sukh...</td>\n",
       "      <td>worldnews</td>\n",
       "      <td>August 22, 2017</td>\n",
       "    </tr>\n",
       "  </tbody>\n",
       "</table>\n",
       "<p>21417 rows × 4 columns</p>\n",
       "</div>"
      ],
      "text/plain": [
       "                                                   title  \\\n",
       "0      As U.S. budget fight looms, Republicans flip t...   \n",
       "1      U.S. military to accept transgender recruits o...   \n",
       "2      Senior U.S. Republican senator: 'Let Mr. Muell...   \n",
       "3      FBI Russia probe helped by Australian diplomat...   \n",
       "4      Trump wants Postal Service to charge 'much mor...   \n",
       "...                                                  ...   \n",
       "21412  'Fully committed' NATO backs new U.S. approach...   \n",
       "21413  LexisNexis withdrew two products from Chinese ...   \n",
       "21414  Minsk cultural hub becomes haven from authorities   \n",
       "21415  Vatican upbeat on possibility of Pope Francis ...   \n",
       "21416  Indonesia to buy $1.14 billion worth of Russia...   \n",
       "\n",
       "                                                    text       subject  \\\n",
       "0      WASHINGTON (Reuters) - The head of a conservat...  politicsNews   \n",
       "1      WASHINGTON (Reuters) - Transgender people will...  politicsNews   \n",
       "2      WASHINGTON (Reuters) - The special counsel inv...  politicsNews   \n",
       "3      WASHINGTON (Reuters) - Trump campaign adviser ...  politicsNews   \n",
       "4      SEATTLE/WASHINGTON (Reuters) - President Donal...  politicsNews   \n",
       "...                                                  ...           ...   \n",
       "21412  BRUSSELS (Reuters) - NATO allies on Tuesday we...     worldnews   \n",
       "21413  LONDON (Reuters) - LexisNexis, a provider of l...     worldnews   \n",
       "21414  MINSK (Reuters) - In the shadow of disused Sov...     worldnews   \n",
       "21415  MOSCOW (Reuters) - Vatican Secretary of State ...     worldnews   \n",
       "21416  JAKARTA (Reuters) - Indonesia will buy 11 Sukh...     worldnews   \n",
       "\n",
       "                     date  \n",
       "0      December 31, 2017   \n",
       "1      December 29, 2017   \n",
       "2      December 31, 2017   \n",
       "3      December 30, 2017   \n",
       "4      December 29, 2017   \n",
       "...                   ...  \n",
       "21412    August 22, 2017   \n",
       "21413    August 22, 2017   \n",
       "21414    August 22, 2017   \n",
       "21415    August 22, 2017   \n",
       "21416    August 22, 2017   \n",
       "\n",
       "[21417 rows x 4 columns]"
      ]
     },
     "execution_count": 4,
     "metadata": {},
     "output_type": "execute_result"
    }
   ],
   "source": [
    "true_df = pd.read_csv(\"True.csv\")\n",
    "true_df"
   ]
  },
  {
   "cell_type": "code",
   "execution_count": 5,
   "id": "WZsQlvyOmTcS",
   "metadata": {
    "colab": {
     "base_uri": "https://localhost:8080/",
     "height": 206
    },
    "id": "WZsQlvyOmTcS",
    "outputId": "184572df-cb8b-44e9-a2e9-59d1f335bbb0"
   },
   "outputs": [
    {
     "data": {
      "text/html": [
       "<div>\n",
       "<style scoped>\n",
       "    .dataframe tbody tr th:only-of-type {\n",
       "        vertical-align: middle;\n",
       "    }\n",
       "\n",
       "    .dataframe tbody tr th {\n",
       "        vertical-align: top;\n",
       "    }\n",
       "\n",
       "    .dataframe thead th {\n",
       "        text-align: right;\n",
       "    }\n",
       "</style>\n",
       "<table border=\"1\" class=\"dataframe\">\n",
       "  <thead>\n",
       "    <tr style=\"text-align: right;\">\n",
       "      <th></th>\n",
       "      <th>title</th>\n",
       "      <th>text</th>\n",
       "      <th>subject</th>\n",
       "      <th>date</th>\n",
       "    </tr>\n",
       "  </thead>\n",
       "  <tbody>\n",
       "    <tr>\n",
       "      <th>0</th>\n",
       "      <td>Donald Trump Sends Out Embarrassing New Year’...</td>\n",
       "      <td>Donald Trump just couldn t wish all Americans ...</td>\n",
       "      <td>News</td>\n",
       "      <td>December 31, 2017</td>\n",
       "    </tr>\n",
       "    <tr>\n",
       "      <th>1</th>\n",
       "      <td>Drunk Bragging Trump Staffer Started Russian ...</td>\n",
       "      <td>House Intelligence Committee Chairman Devin Nu...</td>\n",
       "      <td>News</td>\n",
       "      <td>December 31, 2017</td>\n",
       "    </tr>\n",
       "    <tr>\n",
       "      <th>2</th>\n",
       "      <td>Sheriff David Clarke Becomes An Internet Joke...</td>\n",
       "      <td>On Friday, it was revealed that former Milwauk...</td>\n",
       "      <td>News</td>\n",
       "      <td>December 30, 2017</td>\n",
       "    </tr>\n",
       "    <tr>\n",
       "      <th>3</th>\n",
       "      <td>Trump Is So Obsessed He Even Has Obama’s Name...</td>\n",
       "      <td>On Christmas day, Donald Trump announced that ...</td>\n",
       "      <td>News</td>\n",
       "      <td>December 29, 2017</td>\n",
       "    </tr>\n",
       "    <tr>\n",
       "      <th>4</th>\n",
       "      <td>Pope Francis Just Called Out Donald Trump Dur...</td>\n",
       "      <td>Pope Francis used his annual Christmas Day mes...</td>\n",
       "      <td>News</td>\n",
       "      <td>December 25, 2017</td>\n",
       "    </tr>\n",
       "  </tbody>\n",
       "</table>\n",
       "</div>"
      ],
      "text/plain": [
       "                                               title  \\\n",
       "0   Donald Trump Sends Out Embarrassing New Year’...   \n",
       "1   Drunk Bragging Trump Staffer Started Russian ...   \n",
       "2   Sheriff David Clarke Becomes An Internet Joke...   \n",
       "3   Trump Is So Obsessed He Even Has Obama’s Name...   \n",
       "4   Pope Francis Just Called Out Donald Trump Dur...   \n",
       "\n",
       "                                                text subject  \\\n",
       "0  Donald Trump just couldn t wish all Americans ...    News   \n",
       "1  House Intelligence Committee Chairman Devin Nu...    News   \n",
       "2  On Friday, it was revealed that former Milwauk...    News   \n",
       "3  On Christmas day, Donald Trump announced that ...    News   \n",
       "4  Pope Francis used his annual Christmas Day mes...    News   \n",
       "\n",
       "                date  \n",
       "0  December 31, 2017  \n",
       "1  December 31, 2017  \n",
       "2  December 30, 2017  \n",
       "3  December 29, 2017  \n",
       "4  December 25, 2017  "
      ]
     },
     "execution_count": 5,
     "metadata": {},
     "output_type": "execute_result"
    }
   ],
   "source": [
    "fake_df.head()"
   ]
  },
  {
   "cell_type": "code",
   "execution_count": 6,
   "id": "tRPa4syImW2w",
   "metadata": {
    "colab": {
     "base_uri": "https://localhost:8080/",
     "height": 206
    },
    "id": "tRPa4syImW2w",
    "outputId": "1c68accf-ecc5-4499-e14a-add659ce5361"
   },
   "outputs": [
    {
     "data": {
      "text/html": [
       "<div>\n",
       "<style scoped>\n",
       "    .dataframe tbody tr th:only-of-type {\n",
       "        vertical-align: middle;\n",
       "    }\n",
       "\n",
       "    .dataframe tbody tr th {\n",
       "        vertical-align: top;\n",
       "    }\n",
       "\n",
       "    .dataframe thead th {\n",
       "        text-align: right;\n",
       "    }\n",
       "</style>\n",
       "<table border=\"1\" class=\"dataframe\">\n",
       "  <thead>\n",
       "    <tr style=\"text-align: right;\">\n",
       "      <th></th>\n",
       "      <th>title</th>\n",
       "      <th>text</th>\n",
       "      <th>subject</th>\n",
       "      <th>date</th>\n",
       "    </tr>\n",
       "  </thead>\n",
       "  <tbody>\n",
       "    <tr>\n",
       "      <th>0</th>\n",
       "      <td>As U.S. budget fight looms, Republicans flip t...</td>\n",
       "      <td>WASHINGTON (Reuters) - The head of a conservat...</td>\n",
       "      <td>politicsNews</td>\n",
       "      <td>December 31, 2017</td>\n",
       "    </tr>\n",
       "    <tr>\n",
       "      <th>1</th>\n",
       "      <td>U.S. military to accept transgender recruits o...</td>\n",
       "      <td>WASHINGTON (Reuters) - Transgender people will...</td>\n",
       "      <td>politicsNews</td>\n",
       "      <td>December 29, 2017</td>\n",
       "    </tr>\n",
       "    <tr>\n",
       "      <th>2</th>\n",
       "      <td>Senior U.S. Republican senator: 'Let Mr. Muell...</td>\n",
       "      <td>WASHINGTON (Reuters) - The special counsel inv...</td>\n",
       "      <td>politicsNews</td>\n",
       "      <td>December 31, 2017</td>\n",
       "    </tr>\n",
       "    <tr>\n",
       "      <th>3</th>\n",
       "      <td>FBI Russia probe helped by Australian diplomat...</td>\n",
       "      <td>WASHINGTON (Reuters) - Trump campaign adviser ...</td>\n",
       "      <td>politicsNews</td>\n",
       "      <td>December 30, 2017</td>\n",
       "    </tr>\n",
       "    <tr>\n",
       "      <th>4</th>\n",
       "      <td>Trump wants Postal Service to charge 'much mor...</td>\n",
       "      <td>SEATTLE/WASHINGTON (Reuters) - President Donal...</td>\n",
       "      <td>politicsNews</td>\n",
       "      <td>December 29, 2017</td>\n",
       "    </tr>\n",
       "  </tbody>\n",
       "</table>\n",
       "</div>"
      ],
      "text/plain": [
       "                                               title  \\\n",
       "0  As U.S. budget fight looms, Republicans flip t...   \n",
       "1  U.S. military to accept transgender recruits o...   \n",
       "2  Senior U.S. Republican senator: 'Let Mr. Muell...   \n",
       "3  FBI Russia probe helped by Australian diplomat...   \n",
       "4  Trump wants Postal Service to charge 'much mor...   \n",
       "\n",
       "                                                text       subject  \\\n",
       "0  WASHINGTON (Reuters) - The head of a conservat...  politicsNews   \n",
       "1  WASHINGTON (Reuters) - Transgender people will...  politicsNews   \n",
       "2  WASHINGTON (Reuters) - The special counsel inv...  politicsNews   \n",
       "3  WASHINGTON (Reuters) - Trump campaign adviser ...  politicsNews   \n",
       "4  SEATTLE/WASHINGTON (Reuters) - President Donal...  politicsNews   \n",
       "\n",
       "                 date  \n",
       "0  December 31, 2017   \n",
       "1  December 29, 2017   \n",
       "2  December 31, 2017   \n",
       "3  December 30, 2017   \n",
       "4  December 29, 2017   "
      ]
     },
     "execution_count": 6,
     "metadata": {},
     "output_type": "execute_result"
    }
   ],
   "source": [
    "true_df.head()"
   ]
  },
  {
   "cell_type": "code",
   "execution_count": 7,
   "id": "5xZsc4vZpkJw",
   "metadata": {
    "colab": {
     "base_uri": "https://localhost:8080/",
     "height": 206
    },
    "id": "5xZsc4vZpkJw",
    "outputId": "58f4a6d1-c05a-4ef5-8463-c7a9a17c7635"
   },
   "outputs": [
    {
     "data": {
      "text/html": [
       "<div>\n",
       "<style scoped>\n",
       "    .dataframe tbody tr th:only-of-type {\n",
       "        vertical-align: middle;\n",
       "    }\n",
       "\n",
       "    .dataframe tbody tr th {\n",
       "        vertical-align: top;\n",
       "    }\n",
       "\n",
       "    .dataframe thead th {\n",
       "        text-align: right;\n",
       "    }\n",
       "</style>\n",
       "<table border=\"1\" class=\"dataframe\">\n",
       "  <thead>\n",
       "    <tr style=\"text-align: right;\">\n",
       "      <th></th>\n",
       "      <th>title</th>\n",
       "      <th>text</th>\n",
       "      <th>subject</th>\n",
       "      <th>date</th>\n",
       "      <th>title_text_combined</th>\n",
       "      <th>response</th>\n",
       "    </tr>\n",
       "  </thead>\n",
       "  <tbody>\n",
       "    <tr>\n",
       "      <th>0</th>\n",
       "      <td>As U.S. budget fight looms, Republicans flip t...</td>\n",
       "      <td>WASHINGTON (Reuters) - The head of a conservat...</td>\n",
       "      <td>politicsNews</td>\n",
       "      <td>December 31, 2017</td>\n",
       "      <td>As U.S. budget fight looms, Republicans flip t...</td>\n",
       "      <td>1</td>\n",
       "    </tr>\n",
       "    <tr>\n",
       "      <th>1</th>\n",
       "      <td>U.S. military to accept transgender recruits o...</td>\n",
       "      <td>WASHINGTON (Reuters) - Transgender people will...</td>\n",
       "      <td>politicsNews</td>\n",
       "      <td>December 29, 2017</td>\n",
       "      <td>U.S. military to accept transgender recruits o...</td>\n",
       "      <td>1</td>\n",
       "    </tr>\n",
       "    <tr>\n",
       "      <th>2</th>\n",
       "      <td>Senior U.S. Republican senator: 'Let Mr. Muell...</td>\n",
       "      <td>WASHINGTON (Reuters) - The special counsel inv...</td>\n",
       "      <td>politicsNews</td>\n",
       "      <td>December 31, 2017</td>\n",
       "      <td>Senior U.S. Republican senator: 'Let Mr. Muell...</td>\n",
       "      <td>1</td>\n",
       "    </tr>\n",
       "    <tr>\n",
       "      <th>3</th>\n",
       "      <td>FBI Russia probe helped by Australian diplomat...</td>\n",
       "      <td>WASHINGTON (Reuters) - Trump campaign adviser ...</td>\n",
       "      <td>politicsNews</td>\n",
       "      <td>December 30, 2017</td>\n",
       "      <td>FBI Russia probe helped by Australian diplomat...</td>\n",
       "      <td>1</td>\n",
       "    </tr>\n",
       "    <tr>\n",
       "      <th>4</th>\n",
       "      <td>Trump wants Postal Service to charge 'much mor...</td>\n",
       "      <td>SEATTLE/WASHINGTON (Reuters) - President Donal...</td>\n",
       "      <td>politicsNews</td>\n",
       "      <td>December 29, 2017</td>\n",
       "      <td>Trump wants Postal Service to charge 'much mor...</td>\n",
       "      <td>1</td>\n",
       "    </tr>\n",
       "  </tbody>\n",
       "</table>\n",
       "</div>"
      ],
      "text/plain": [
       "                                               title  \\\n",
       "0  As U.S. budget fight looms, Republicans flip t...   \n",
       "1  U.S. military to accept transgender recruits o...   \n",
       "2  Senior U.S. Republican senator: 'Let Mr. Muell...   \n",
       "3  FBI Russia probe helped by Australian diplomat...   \n",
       "4  Trump wants Postal Service to charge 'much mor...   \n",
       "\n",
       "                                                text       subject  \\\n",
       "0  WASHINGTON (Reuters) - The head of a conservat...  politicsNews   \n",
       "1  WASHINGTON (Reuters) - Transgender people will...  politicsNews   \n",
       "2  WASHINGTON (Reuters) - The special counsel inv...  politicsNews   \n",
       "3  WASHINGTON (Reuters) - Trump campaign adviser ...  politicsNews   \n",
       "4  SEATTLE/WASHINGTON (Reuters) - President Donal...  politicsNews   \n",
       "\n",
       "                 date                                title_text_combined  \\\n",
       "0  December 31, 2017   As U.S. budget fight looms, Republicans flip t...   \n",
       "1  December 29, 2017   U.S. military to accept transgender recruits o...   \n",
       "2  December 31, 2017   Senior U.S. Republican senator: 'Let Mr. Muell...   \n",
       "3  December 30, 2017   FBI Russia probe helped by Australian diplomat...   \n",
       "4  December 29, 2017   Trump wants Postal Service to charge 'much mor...   \n",
       "\n",
       "   response  \n",
       "0         1  \n",
       "1         1  \n",
       "2         1  \n",
       "3         1  \n",
       "4         1  "
      ]
     },
     "execution_count": 7,
     "metadata": {},
     "output_type": "execute_result"
    }
   ],
   "source": [
    "# create new column that combines title and text together called title_text_combined\n",
    "true_df['title_text_combined'] = true_df['title'] + \" \" + true_df['text']\n",
    "# add response column and set to 1 for true dataset\n",
    "true_df[\"response\"] = 1\n",
    "true_df.head()"
   ]
  },
  {
   "cell_type": "code",
   "execution_count": 8,
   "id": "TAZs8scCuD1C",
   "metadata": {
    "colab": {
     "base_uri": "https://localhost:8080/",
     "height": 206
    },
    "id": "TAZs8scCuD1C",
    "outputId": "b4c1c6e0-f09c-4102-d8a0-e15629215846"
   },
   "outputs": [
    {
     "data": {
      "text/html": [
       "<div>\n",
       "<style scoped>\n",
       "    .dataframe tbody tr th:only-of-type {\n",
       "        vertical-align: middle;\n",
       "    }\n",
       "\n",
       "    .dataframe tbody tr th {\n",
       "        vertical-align: top;\n",
       "    }\n",
       "\n",
       "    .dataframe thead th {\n",
       "        text-align: right;\n",
       "    }\n",
       "</style>\n",
       "<table border=\"1\" class=\"dataframe\">\n",
       "  <thead>\n",
       "    <tr style=\"text-align: right;\">\n",
       "      <th></th>\n",
       "      <th>title</th>\n",
       "      <th>text</th>\n",
       "      <th>subject</th>\n",
       "      <th>date</th>\n",
       "      <th>title_text_combined</th>\n",
       "      <th>response</th>\n",
       "    </tr>\n",
       "  </thead>\n",
       "  <tbody>\n",
       "    <tr>\n",
       "      <th>0</th>\n",
       "      <td>Donald Trump Sends Out Embarrassing New Year’...</td>\n",
       "      <td>Donald Trump just couldn t wish all Americans ...</td>\n",
       "      <td>News</td>\n",
       "      <td>December 31, 2017</td>\n",
       "      <td>Donald Trump Sends Out Embarrassing New Year’...</td>\n",
       "      <td>0</td>\n",
       "    </tr>\n",
       "    <tr>\n",
       "      <th>1</th>\n",
       "      <td>Drunk Bragging Trump Staffer Started Russian ...</td>\n",
       "      <td>House Intelligence Committee Chairman Devin Nu...</td>\n",
       "      <td>News</td>\n",
       "      <td>December 31, 2017</td>\n",
       "      <td>Drunk Bragging Trump Staffer Started Russian ...</td>\n",
       "      <td>0</td>\n",
       "    </tr>\n",
       "    <tr>\n",
       "      <th>2</th>\n",
       "      <td>Sheriff David Clarke Becomes An Internet Joke...</td>\n",
       "      <td>On Friday, it was revealed that former Milwauk...</td>\n",
       "      <td>News</td>\n",
       "      <td>December 30, 2017</td>\n",
       "      <td>Sheriff David Clarke Becomes An Internet Joke...</td>\n",
       "      <td>0</td>\n",
       "    </tr>\n",
       "    <tr>\n",
       "      <th>3</th>\n",
       "      <td>Trump Is So Obsessed He Even Has Obama’s Name...</td>\n",
       "      <td>On Christmas day, Donald Trump announced that ...</td>\n",
       "      <td>News</td>\n",
       "      <td>December 29, 2017</td>\n",
       "      <td>Trump Is So Obsessed He Even Has Obama’s Name...</td>\n",
       "      <td>0</td>\n",
       "    </tr>\n",
       "    <tr>\n",
       "      <th>4</th>\n",
       "      <td>Pope Francis Just Called Out Donald Trump Dur...</td>\n",
       "      <td>Pope Francis used his annual Christmas Day mes...</td>\n",
       "      <td>News</td>\n",
       "      <td>December 25, 2017</td>\n",
       "      <td>Pope Francis Just Called Out Donald Trump Dur...</td>\n",
       "      <td>0</td>\n",
       "    </tr>\n",
       "  </tbody>\n",
       "</table>\n",
       "</div>"
      ],
      "text/plain": [
       "                                               title  \\\n",
       "0   Donald Trump Sends Out Embarrassing New Year’...   \n",
       "1   Drunk Bragging Trump Staffer Started Russian ...   \n",
       "2   Sheriff David Clarke Becomes An Internet Joke...   \n",
       "3   Trump Is So Obsessed He Even Has Obama’s Name...   \n",
       "4   Pope Francis Just Called Out Donald Trump Dur...   \n",
       "\n",
       "                                                text subject  \\\n",
       "0  Donald Trump just couldn t wish all Americans ...    News   \n",
       "1  House Intelligence Committee Chairman Devin Nu...    News   \n",
       "2  On Friday, it was revealed that former Milwauk...    News   \n",
       "3  On Christmas day, Donald Trump announced that ...    News   \n",
       "4  Pope Francis used his annual Christmas Day mes...    News   \n",
       "\n",
       "                date                                title_text_combined  \\\n",
       "0  December 31, 2017   Donald Trump Sends Out Embarrassing New Year’...   \n",
       "1  December 31, 2017   Drunk Bragging Trump Staffer Started Russian ...   \n",
       "2  December 30, 2017   Sheriff David Clarke Becomes An Internet Joke...   \n",
       "3  December 29, 2017   Trump Is So Obsessed He Even Has Obama’s Name...   \n",
       "4  December 25, 2017   Pope Francis Just Called Out Donald Trump Dur...   \n",
       "\n",
       "   response  \n",
       "0         0  \n",
       "1         0  \n",
       "2         0  \n",
       "3         0  \n",
       "4         0  "
      ]
     },
     "execution_count": 8,
     "metadata": {},
     "output_type": "execute_result"
    }
   ],
   "source": [
    "# create new column that combines title and text together called title_text_combined\n",
    "fake_df['title_text_combined'] = fake_df['title'] + \" \" + fake_df['text']\n",
    "# add response column and set to 1 for true dataset\n",
    "fake_df[\"response\"] = 0\n",
    "fake_df.head()"
   ]
  },
  {
   "cell_type": "code",
   "execution_count": 9,
   "id": "e0c2b2b6",
   "metadata": {
    "colab": {
     "base_uri": "https://localhost:8080/"
    },
    "id": "e0c2b2b6",
    "outputId": "64f8e235-cd9e-4264-d372-11b39c0faab4"
   },
   "outputs": [
    {
     "name": "stdout",
     "output_type": "stream",
     "text": [
      "<class 'pandas.core.frame.DataFrame'>\n",
      "RangeIndex: 21417 entries, 0 to 21416\n",
      "Data columns (total 6 columns):\n",
      " #   Column               Non-Null Count  Dtype \n",
      "---  ------               --------------  ----- \n",
      " 0   title                21417 non-null  object\n",
      " 1   text                 21417 non-null  object\n",
      " 2   subject              21417 non-null  object\n",
      " 3   date                 21417 non-null  object\n",
      " 4   title_text_combined  21417 non-null  object\n",
      " 5   response             21417 non-null  int64 \n",
      "dtypes: int64(1), object(5)\n",
      "memory usage: 1004.0+ KB\n"
     ]
    }
   ],
   "source": [
    "true_df.info()"
   ]
  },
  {
   "cell_type": "code",
   "execution_count": 10,
   "id": "b047a8fd",
   "metadata": {
    "colab": {
     "base_uri": "https://localhost:8080/"
    },
    "id": "b047a8fd",
    "outputId": "e7aaef1c-83a3-444c-e44b-801afe333e64"
   },
   "outputs": [
    {
     "name": "stdout",
     "output_type": "stream",
     "text": [
      "<class 'pandas.core.frame.DataFrame'>\n",
      "RangeIndex: 23481 entries, 0 to 23480\n",
      "Data columns (total 6 columns):\n",
      " #   Column               Non-Null Count  Dtype \n",
      "---  ------               --------------  ----- \n",
      " 0   title                23481 non-null  object\n",
      " 1   text                 23481 non-null  object\n",
      " 2   subject              23481 non-null  object\n",
      " 3   date                 23481 non-null  object\n",
      " 4   title_text_combined  23481 non-null  object\n",
      " 5   response             23481 non-null  int64 \n",
      "dtypes: int64(1), object(5)\n",
      "memory usage: 1.1+ MB\n"
     ]
    }
   ],
   "source": [
    "fake_df.info()"
   ]
  },
  {
   "cell_type": "code",
   "execution_count": 11,
   "id": "43c3122d",
   "metadata": {
    "id": "43c3122d"
   },
   "outputs": [],
   "source": [
    "# remove title, text, subject and date columns\n",
    "fake_df.drop([\"title\", \"text\", \"subject\",\"date\"],axis = 1,inplace = True)\n",
    "true_df.drop([\"title\", \"text\", \"subject\",\"date\"],axis = 1,inplace = True)"
   ]
  },
  {
   "cell_type": "code",
   "execution_count": 12,
   "id": "66sXmAtQwXQS",
   "metadata": {
    "id": "66sXmAtQwXQS"
   },
   "outputs": [],
   "source": [
    "# convert all text to lowercase\n",
    "fake_df['title_text_combined'] = fake_df['title_text_combined'].apply(lambda x:x.lower())\n",
    "true_df['title_text_combined'] = true_df['title_text_combined'].apply(lambda x:x.lower())\n"
   ]
  },
  {
   "cell_type": "code",
   "execution_count": 13,
   "id": "JQ7WpZ__wtl1",
   "metadata": {
    "id": "JQ7WpZ__wtl1"
   },
   "outputs": [],
   "source": [
    "# tokenization - this may take a while...\n",
    "fake_df['title_text_combined'] = fake_df['title_text_combined'].apply(lambda x:word_tokenize(x))\n",
    "true_df['title_text_combined'] = true_df['title_text_combined'].apply(lambda x:word_tokenize(x))\n"
   ]
  },
  {
   "cell_type": "code",
   "execution_count": 14,
   "id": "zY5oEEqfzstY",
   "metadata": {
    "colab": {
     "base_uri": "https://localhost:8080/",
     "height": 206
    },
    "id": "zY5oEEqfzstY",
    "outputId": "ae5b0dbd-db6a-4634-a2c6-ec978b40c120"
   },
   "outputs": [
    {
     "data": {
      "text/html": [
       "<div>\n",
       "<style scoped>\n",
       "    .dataframe tbody tr th:only-of-type {\n",
       "        vertical-align: middle;\n",
       "    }\n",
       "\n",
       "    .dataframe tbody tr th {\n",
       "        vertical-align: top;\n",
       "    }\n",
       "\n",
       "    .dataframe thead th {\n",
       "        text-align: right;\n",
       "    }\n",
       "</style>\n",
       "<table border=\"1\" class=\"dataframe\">\n",
       "  <thead>\n",
       "    <tr style=\"text-align: right;\">\n",
       "      <th></th>\n",
       "      <th>title_text_combined</th>\n",
       "      <th>response</th>\n",
       "    </tr>\n",
       "  </thead>\n",
       "  <tbody>\n",
       "    <tr>\n",
       "      <th>0</th>\n",
       "      <td>[donald, trump, sends, out, embarrassing, new,...</td>\n",
       "      <td>0</td>\n",
       "    </tr>\n",
       "    <tr>\n",
       "      <th>1</th>\n",
       "      <td>[drunk, bragging, trump, staffer, started, rus...</td>\n",
       "      <td>0</td>\n",
       "    </tr>\n",
       "    <tr>\n",
       "      <th>2</th>\n",
       "      <td>[sheriff, david, clarke, becomes, an, internet...</td>\n",
       "      <td>0</td>\n",
       "    </tr>\n",
       "    <tr>\n",
       "      <th>3</th>\n",
       "      <td>[trump, is, so, obsessed, he, even, has, obama...</td>\n",
       "      <td>0</td>\n",
       "    </tr>\n",
       "    <tr>\n",
       "      <th>4</th>\n",
       "      <td>[pope, francis, just, called, out, donald, tru...</td>\n",
       "      <td>0</td>\n",
       "    </tr>\n",
       "  </tbody>\n",
       "</table>\n",
       "</div>"
      ],
      "text/plain": [
       "                                 title_text_combined  response\n",
       "0  [donald, trump, sends, out, embarrassing, new,...         0\n",
       "1  [drunk, bragging, trump, staffer, started, rus...         0\n",
       "2  [sheriff, david, clarke, becomes, an, internet...         0\n",
       "3  [trump, is, so, obsessed, he, even, has, obama...         0\n",
       "4  [pope, francis, just, called, out, donald, tru...         0"
      ]
     },
     "execution_count": 14,
     "metadata": {},
     "output_type": "execute_result"
    }
   ],
   "source": [
    "# removing punctuation\n",
    "import string\n",
    "fake_df['title_text_combined'] = fake_df['title_text_combined'].apply(lambda x:[wrd for wrd in x if wrd not in string.punctuation])\n",
    "true_df['title_text_combined'] = true_df['title_text_combined'].apply(lambda x:[wrd for wrd in x if wrd not in string.punctuation])\n",
    "fake_df.head()"
   ]
  },
  {
   "cell_type": "code",
   "execution_count": 15,
   "id": "dKfXP6f20IF6",
   "metadata": {
    "id": "dKfXP6f20IF6"
   },
   "outputs": [],
   "source": [
    "# removing stopwords\n",
    "stop_words = set(stopwords.words('english'))\n",
    "\n",
    "fake_df['title_text_combined'] = fake_df['title_text_combined'].apply(lambda x:[wrd for wrd in x if wrd not in stop_words])\n",
    "true_df['title_text_combined'] = true_df['title_text_combined'].apply(lambda x:[wrd for wrd in x if wrd not in stop_words])\n"
   ]
  },
  {
   "cell_type": "code",
   "execution_count": 16,
   "id": "DoC1jZi516pH",
   "metadata": {
    "colab": {
     "base_uri": "https://localhost:8080/"
    },
    "id": "DoC1jZi516pH",
    "outputId": "f7825f0a-6008-45e5-e083-0b4a92ca3ca2"
   },
   "outputs": [
    {
     "data": {
      "text/plain": [
       "0    [donald, trump, sends, embarrassing, new, year...\n",
       "1    [drunk, bragging, trump, staffer, started, rus...\n",
       "2    [sheriff, david, clarke, becomes, internet, jo...\n",
       "3    [trump, obsessed, even, obama, ’, name, coded,...\n",
       "4    [pope, francis, called, donald, trump, christm...\n",
       "Name: title_text_combined, dtype: object"
      ]
     },
     "execution_count": 16,
     "metadata": {},
     "output_type": "execute_result"
    }
   ],
   "source": [
    "fake_df['title_text_combined'].head()"
   ]
  },
  {
   "cell_type": "code",
   "execution_count": 17,
   "id": "rCNdfLE41E63",
   "metadata": {
    "id": "rCNdfLE41E63"
   },
   "outputs": [],
   "source": [
    "# generate word cloud for fake and true datasets\n",
    "from wordcloud import WordCloud\n",
    "\n",
    "def generate_wordcloud(text):\n",
    "    wordcloud = WordCloud(width=800, height=400, background_color='white').generate(text)\n",
    "    plt.figure(figsize=(10, 5))\n",
    "    plt.imshow(wordcloud, interpolation='bilinear')\n",
    "    plt.axis('off')\n",
    "    plt.show()\n",
    "\n"
   ]
  },
  {
   "cell_type": "code",
   "execution_count": 18,
   "id": "cKvxo9LF1km5",
   "metadata": {
    "id": "cKvxo9LF1km5"
   },
   "outputs": [],
   "source": [
    "from itertools import chain\n",
    "# Generate word cloud from the 'text' column in fake_df\n",
    "fake_text = ' '.join(list(chain.from_iterable(fake_df['title_text_combined'])))\n",
    "\n",
    "# generate_wordcloud(' '.join(fake_df['title_text_combined']))"
   ]
  },
  {
   "cell_type": "code",
   "execution_count": 19,
   "id": "Qc2VCZ1U6ebL",
   "metadata": {
    "colab": {
     "base_uri": "https://localhost:8080/",
     "height": 422
    },
    "id": "Qc2VCZ1U6ebL",
    "outputId": "55ffc29f-b42b-4690-9161-43b1dd43c828"
   },
   "outputs": [],
   "source": [
    "# Generate word cloud from the 'text' column in fake_df\n",
    "# generate_wordcloud(fake_text)"
   ]
  },
  {
   "cell_type": "code",
   "execution_count": 20,
   "id": "ILNZ_0CY6tv_",
   "metadata": {
    "colab": {
     "base_uri": "https://localhost:8080/",
     "height": 422
    },
    "id": "ILNZ_0CY6tv_",
    "outputId": "948b602c-53af-4d59-83c1-fe51358be21a"
   },
   "outputs": [],
   "source": [
    "# # Generate word cloud from the 'text' column in true_df\n",
    "# true_text = ' '.join(list(chain.from_iterable(true_df['title_text_combined'])))\n",
    "# generate_wordcloud(true_text)"
   ]
  },
  {
   "cell_type": "code",
   "execution_count": 21,
   "id": "A5GkqI0a7HDq",
   "metadata": {
    "id": "A5GkqI0a7HDq"
   },
   "outputs": [],
   "source": [
    "from nltk.stem.porter import *\n",
    "# stemming of words\n",
    "stemmer = PorterStemmer()\n",
    "fake_df['title_text_combined'] = fake_df['title_text_combined'].apply(lambda x:[stemmer.stem(wrd) for wrd in x])\n",
    "true_df['title_text_combined'] = true_df['title_text_combined'].apply(lambda x:[stemmer.stem(wrd) for wrd in x])\n"
   ]
  },
  {
   "cell_type": "code",
   "execution_count": 22,
   "id": "cdBMCoEZ7eua",
   "metadata": {
    "colab": {
     "base_uri": "https://localhost:8080/"
    },
    "id": "cdBMCoEZ7eua",
    "outputId": "76661dbf-2343-4674-c176-ca93f8853021"
   },
   "outputs": [
    {
     "data": {
      "text/html": [
       "<div>\n",
       "<style scoped>\n",
       "    .dataframe tbody tr th:only-of-type {\n",
       "        vertical-align: middle;\n",
       "    }\n",
       "\n",
       "    .dataframe tbody tr th {\n",
       "        vertical-align: top;\n",
       "    }\n",
       "\n",
       "    .dataframe thead th {\n",
       "        text-align: right;\n",
       "    }\n",
       "</style>\n",
       "<table border=\"1\" class=\"dataframe\">\n",
       "  <thead>\n",
       "    <tr style=\"text-align: right;\">\n",
       "      <th></th>\n",
       "      <th>title_text_combined</th>\n",
       "      <th>response</th>\n",
       "    </tr>\n",
       "  </thead>\n",
       "  <tbody>\n",
       "    <tr>\n",
       "      <th>0</th>\n",
       "      <td>[u.s., budget, fight, loom, republican, flip, ...</td>\n",
       "      <td>1</td>\n",
       "    </tr>\n",
       "    <tr>\n",
       "      <th>1</th>\n",
       "      <td>[u.s., militari, accept, transgend, recruit, m...</td>\n",
       "      <td>1</td>\n",
       "    </tr>\n",
       "    <tr>\n",
       "      <th>2</th>\n",
       "      <td>[senior, u.s., republican, senat, 'let, mr., m...</td>\n",
       "      <td>1</td>\n",
       "    </tr>\n",
       "    <tr>\n",
       "      <th>3</th>\n",
       "      <td>[fbi, russia, probe, help, australian, diploma...</td>\n",
       "      <td>1</td>\n",
       "    </tr>\n",
       "    <tr>\n",
       "      <th>4</th>\n",
       "      <td>[trump, want, postal, servic, charg, 'much, am...</td>\n",
       "      <td>1</td>\n",
       "    </tr>\n",
       "  </tbody>\n",
       "</table>\n",
       "</div>"
      ],
      "text/plain": [
       "                                 title_text_combined  response\n",
       "0  [u.s., budget, fight, loom, republican, flip, ...         1\n",
       "1  [u.s., militari, accept, transgend, recruit, m...         1\n",
       "2  [senior, u.s., republican, senat, 'let, mr., m...         1\n",
       "3  [fbi, russia, probe, help, australian, diploma...         1\n",
       "4  [trump, want, postal, servic, charg, 'much, am...         1"
      ]
     },
     "execution_count": 22,
     "metadata": {},
     "output_type": "execute_result"
    }
   ],
   "source": [
    "fake_df.head()\n",
    "true_df.head()"
   ]
  },
  {
   "cell_type": "code",
   "execution_count": 23,
   "id": "Pna59uRKLy2C",
   "metadata": {
    "id": "Pna59uRKLy2C"
   },
   "outputs": [],
   "source": [
    "# remove any empty tokens from both fake_df and true_df\n",
    "fake_df['title_text_combined'] = fake_df['title_text_combined'].apply(lambda x:[wrd for wrd in x if wrd != ''])\n",
    "true_df['title_text_combined'] = true_df['title_text_combined'].apply(lambda x:[wrd for wrd in x if wrd != ''])\n"
   ]
  },
  {
   "cell_type": "code",
   "execution_count": 24,
   "id": "6p65sM5vMyio",
   "metadata": {
    "colab": {
     "base_uri": "https://localhost:8080/"
    },
    "id": "6p65sM5vMyio",
    "outputId": "59ddbe89-8b55-4c96-9f91-9003e6a0696e"
   },
   "outputs": [
    {
     "name": "stderr",
     "output_type": "stream",
     "text": [
      "[nltk_data] Downloading package averaged_perceptron_tagger to\n",
      "[nltk_data]     /Users/rithvik17/nltk_data...\n",
      "[nltk_data]   Package averaged_perceptron_tagger is already up-to-\n",
      "[nltk_data]       date!\n"
     ]
    }
   ],
   "source": [
    "# POS tagging\n",
    "from nltk import pos_tag\n",
    "nltk.download('averaged_perceptron_tagger')\n",
    "fake_df_pos_tagged = fake_df['title_text_combined'].apply(lambda x:pos_tag(x))\n",
    "true_df_pos_tagged = true_df['title_text_combined'].apply(lambda x:pos_tag(x))\n",
    "\n"
   ]
  },
  {
   "cell_type": "code",
   "execution_count": 25,
   "id": "R_OxxmoUSE33",
   "metadata": {
    "id": "R_OxxmoUSE33"
   },
   "outputs": [],
   "source": [
    "# lemmitization\n",
    "from nltk.stem import WordNetLemmatizer\n",
    "lemmatizer = WordNetLemmatizer()\n",
    "fake_df['title_text_combined'] = fake_df['title_text_combined'].apply(lambda x:[lemmatizer.lemmatize(wrd) for wrd in x])\n",
    "true_df['title_text_combined'] = true_df['title_text_combined'].apply(lambda x:[lemmatizer.lemmatize(wrd) for wrd in x])"
   ]
  },
  {
   "cell_type": "code",
   "execution_count": 26,
   "id": "zhocAAkkSeBr",
   "metadata": {
    "colab": {
     "base_uri": "https://localhost:8080/"
    },
    "id": "zhocAAkkSeBr",
    "outputId": "ff6fccac-07b9-45c2-b4cf-e9b64ef951b6"
   },
   "outputs": [
    {
     "data": {
      "text/html": [
       "<div>\n",
       "<style scoped>\n",
       "    .dataframe tbody tr th:only-of-type {\n",
       "        vertical-align: middle;\n",
       "    }\n",
       "\n",
       "    .dataframe tbody tr th {\n",
       "        vertical-align: top;\n",
       "    }\n",
       "\n",
       "    .dataframe thead th {\n",
       "        text-align: right;\n",
       "    }\n",
       "</style>\n",
       "<table border=\"1\" class=\"dataframe\">\n",
       "  <thead>\n",
       "    <tr style=\"text-align: right;\">\n",
       "      <th></th>\n",
       "      <th>title_text_combined</th>\n",
       "      <th>response</th>\n",
       "    </tr>\n",
       "  </thead>\n",
       "  <tbody>\n",
       "    <tr>\n",
       "      <th>0</th>\n",
       "      <td>[donald, trump, send, embarrass, new, year, ’,...</td>\n",
       "      <td>0</td>\n",
       "    </tr>\n",
       "    <tr>\n",
       "      <th>1</th>\n",
       "      <td>[drunk, brag, trump, staffer, start, russian, ...</td>\n",
       "      <td>0</td>\n",
       "    </tr>\n",
       "    <tr>\n",
       "      <th>2</th>\n",
       "      <td>[sheriff, david, clark, becom, internet, joke,...</td>\n",
       "      <td>0</td>\n",
       "    </tr>\n",
       "    <tr>\n",
       "      <th>3</th>\n",
       "      <td>[trump, ob, even, obama, ’, name, code, websit...</td>\n",
       "      <td>0</td>\n",
       "    </tr>\n",
       "    <tr>\n",
       "      <th>4</th>\n",
       "      <td>[pope, franci, call, donald, trump, christma, ...</td>\n",
       "      <td>0</td>\n",
       "    </tr>\n",
       "  </tbody>\n",
       "</table>\n",
       "</div>"
      ],
      "text/plain": [
       "                                 title_text_combined  response\n",
       "0  [donald, trump, send, embarrass, new, year, ’,...         0\n",
       "1  [drunk, brag, trump, staffer, start, russian, ...         0\n",
       "2  [sheriff, david, clark, becom, internet, joke,...         0\n",
       "3  [trump, ob, even, obama, ’, name, code, websit...         0\n",
       "4  [pope, franci, call, donald, trump, christma, ...         0"
      ]
     },
     "execution_count": 26,
     "metadata": {},
     "output_type": "execute_result"
    }
   ],
   "source": [
    "fake_df.head()"
   ]
  },
  {
   "cell_type": "code",
   "execution_count": 27,
   "id": "TMFACbziSgyA",
   "metadata": {
    "colab": {
     "base_uri": "https://localhost:8080/"
    },
    "id": "TMFACbziSgyA",
    "outputId": "96a28e52-2286-48a3-c4f5-ce34e1c8264f"
   },
   "outputs": [
    {
     "data": {
      "text/html": [
       "<div>\n",
       "<style scoped>\n",
       "    .dataframe tbody tr th:only-of-type {\n",
       "        vertical-align: middle;\n",
       "    }\n",
       "\n",
       "    .dataframe tbody tr th {\n",
       "        vertical-align: top;\n",
       "    }\n",
       "\n",
       "    .dataframe thead th {\n",
       "        text-align: right;\n",
       "    }\n",
       "</style>\n",
       "<table border=\"1\" class=\"dataframe\">\n",
       "  <thead>\n",
       "    <tr style=\"text-align: right;\">\n",
       "      <th></th>\n",
       "      <th>title_text_combined</th>\n",
       "      <th>response</th>\n",
       "    </tr>\n",
       "  </thead>\n",
       "  <tbody>\n",
       "    <tr>\n",
       "      <th>0</th>\n",
       "      <td>[u.s., budget, fight, loom, republican, flip, ...</td>\n",
       "      <td>1</td>\n",
       "    </tr>\n",
       "    <tr>\n",
       "      <th>1</th>\n",
       "      <td>[u.s., militari, accept, transgend, recruit, m...</td>\n",
       "      <td>1</td>\n",
       "    </tr>\n",
       "    <tr>\n",
       "      <th>2</th>\n",
       "      <td>[senior, u.s., republican, senat, 'let, mr., m...</td>\n",
       "      <td>1</td>\n",
       "    </tr>\n",
       "    <tr>\n",
       "      <th>3</th>\n",
       "      <td>[fbi, russia, probe, help, australian, diploma...</td>\n",
       "      <td>1</td>\n",
       "    </tr>\n",
       "    <tr>\n",
       "      <th>4</th>\n",
       "      <td>[trump, want, postal, servic, charg, 'much, am...</td>\n",
       "      <td>1</td>\n",
       "    </tr>\n",
       "  </tbody>\n",
       "</table>\n",
       "</div>"
      ],
      "text/plain": [
       "                                 title_text_combined  response\n",
       "0  [u.s., budget, fight, loom, republican, flip, ...         1\n",
       "1  [u.s., militari, accept, transgend, recruit, m...         1\n",
       "2  [senior, u.s., republican, senat, 'let, mr., m...         1\n",
       "3  [fbi, russia, probe, help, australian, diploma...         1\n",
       "4  [trump, want, postal, servic, charg, 'much, am...         1"
      ]
     },
     "execution_count": 27,
     "metadata": {},
     "output_type": "execute_result"
    }
   ],
   "source": [
    "true_df.head()"
   ]
  },
  {
   "cell_type": "code",
   "execution_count": 28,
   "id": "af71ac9f",
   "metadata": {
    "colab": {
     "base_uri": "https://localhost:8080/"
    },
    "id": "af71ac9f",
    "outputId": "a87746ab-fe87-48cc-9be2-68bdd7f554ed"
   },
   "outputs": [
    {
     "data": {
      "text/html": [
       "<div>\n",
       "<style scoped>\n",
       "    .dataframe tbody tr th:only-of-type {\n",
       "        vertical-align: middle;\n",
       "    }\n",
       "\n",
       "    .dataframe tbody tr th {\n",
       "        vertical-align: top;\n",
       "    }\n",
       "\n",
       "    .dataframe thead th {\n",
       "        text-align: right;\n",
       "    }\n",
       "</style>\n",
       "<table border=\"1\" class=\"dataframe\">\n",
       "  <thead>\n",
       "    <tr style=\"text-align: right;\">\n",
       "      <th></th>\n",
       "      <th>title_text_combined</th>\n",
       "      <th>response</th>\n",
       "    </tr>\n",
       "  </thead>\n",
       "  <tbody>\n",
       "    <tr>\n",
       "      <th>0</th>\n",
       "      <td>[u.s., budget, fight, loom, republican, flip, ...</td>\n",
       "      <td>1</td>\n",
       "    </tr>\n",
       "    <tr>\n",
       "      <th>1</th>\n",
       "      <td>[u.s., militari, accept, transgend, recruit, m...</td>\n",
       "      <td>1</td>\n",
       "    </tr>\n",
       "    <tr>\n",
       "      <th>2</th>\n",
       "      <td>[senior, u.s., republican, senat, 'let, mr., m...</td>\n",
       "      <td>1</td>\n",
       "    </tr>\n",
       "    <tr>\n",
       "      <th>3</th>\n",
       "      <td>[fbi, russia, probe, help, australian, diploma...</td>\n",
       "      <td>1</td>\n",
       "    </tr>\n",
       "    <tr>\n",
       "      <th>4</th>\n",
       "      <td>[trump, want, postal, servic, charg, 'much, am...</td>\n",
       "      <td>1</td>\n",
       "    </tr>\n",
       "    <tr>\n",
       "      <th>...</th>\n",
       "      <td>...</td>\n",
       "      <td>...</td>\n",
       "    </tr>\n",
       "    <tr>\n",
       "      <th>44893</th>\n",
       "      <td>[mcpain, john, mccain, furiou, iran, treat, u,...</td>\n",
       "      <td>0</td>\n",
       "    </tr>\n",
       "    <tr>\n",
       "      <th>44894</th>\n",
       "      <td>[justic, yahoo, settl, e-mail, privaci, class-...</td>\n",
       "      <td>0</td>\n",
       "    </tr>\n",
       "    <tr>\n",
       "      <th>44895</th>\n",
       "      <td>[sunnistan, u, alli, ‘, safe, zone, ’, plan, t...</td>\n",
       "      <td>0</td>\n",
       "    </tr>\n",
       "    <tr>\n",
       "      <th>44896</th>\n",
       "      <td>[blow, 700, million, al, jazeera, america, fin...</td>\n",
       "      <td>0</td>\n",
       "    </tr>\n",
       "    <tr>\n",
       "      <th>44897</th>\n",
       "      <td>[10, u.s., navi, sailor, held, iranian, milita...</td>\n",
       "      <td>0</td>\n",
       "    </tr>\n",
       "  </tbody>\n",
       "</table>\n",
       "<p>44898 rows × 2 columns</p>\n",
       "</div>"
      ],
      "text/plain": [
       "                                     title_text_combined  response\n",
       "0      [u.s., budget, fight, loom, republican, flip, ...         1\n",
       "1      [u.s., militari, accept, transgend, recruit, m...         1\n",
       "2      [senior, u.s., republican, senat, 'let, mr., m...         1\n",
       "3      [fbi, russia, probe, help, australian, diploma...         1\n",
       "4      [trump, want, postal, servic, charg, 'much, am...         1\n",
       "...                                                  ...       ...\n",
       "44893  [mcpain, john, mccain, furiou, iran, treat, u,...         0\n",
       "44894  [justic, yahoo, settl, e-mail, privaci, class-...         0\n",
       "44895  [sunnistan, u, alli, ‘, safe, zone, ’, plan, t...         0\n",
       "44896  [blow, 700, million, al, jazeera, america, fin...         0\n",
       "44897  [10, u.s., navi, sailor, held, iranian, milita...         0\n",
       "\n",
       "[44898 rows x 2 columns]"
      ]
     },
     "execution_count": 28,
     "metadata": {},
     "output_type": "execute_result"
    }
   ],
   "source": [
    "# merging fake and true dataframes together\n",
    "merged_df = pd.concat([true_df, fake_df], ignore_index=True)\n",
    "merged_df"
   ]
  },
  {
   "cell_type": "code",
   "execution_count": 29,
   "id": "K2YvCkDvTbyl",
   "metadata": {
    "colab": {
     "base_uri": "https://localhost:8080/"
    },
    "id": "K2YvCkDvTbyl",
    "outputId": "09c3149f-edb7-488c-ebca-d46120204771"
   },
   "outputs": [
    {
     "data": {
      "text/plain": [
       "0        [u.s., budget, fight, loom, republican, flip, ...\n",
       "1        [u.s., militari, accept, transgend, recruit, m...\n",
       "2        [senior, u.s., republican, senat, 'let, mr., m...\n",
       "3        [fbi, russia, probe, help, australian, diploma...\n",
       "4        [trump, want, postal, servic, charg, 'much, am...\n",
       "                               ...                        \n",
       "44893    [mcpain, john, mccain, furiou, iran, treat, u,...\n",
       "44894    [justic, yahoo, settl, e-mail, privaci, class-...\n",
       "44895    [sunnistan, u, alli, ‘, safe, zone, ’, plan, t...\n",
       "44896    [blow, 700, million, al, jazeera, america, fin...\n",
       "44897    [10, u.s., navi, sailor, held, iranian, milita...\n",
       "Name: title_text_combined, Length: 44898, dtype: object"
      ]
     },
     "execution_count": 29,
     "metadata": {},
     "output_type": "execute_result"
    }
   ],
   "source": [
    "merged_df['title_text_combined']\n"
   ]
  },
  {
   "cell_type": "code",
   "execution_count": 30,
   "id": "EwXoP9ycWrJ_",
   "metadata": {
    "id": "EwXoP9ycWrJ_"
   },
   "outputs": [],
   "source": [
    "# join text back together\n",
    "merged_df['title_text_combined'] = merged_df['title_text_combined'].apply(lambda content_list: ' '.join(content_list))"
   ]
  },
  {
   "cell_type": "code",
   "execution_count": 31,
   "id": "r0Ap1WGpW7Qf",
   "metadata": {
    "colab": {
     "base_uri": "https://localhost:8080/",
     "height": 206
    },
    "id": "r0Ap1WGpW7Qf",
    "outputId": "6a615bc9-7c93-4303-f494-a9df71b76e40"
   },
   "outputs": [
    {
     "data": {
      "text/html": [
       "<div>\n",
       "<style scoped>\n",
       "    .dataframe tbody tr th:only-of-type {\n",
       "        vertical-align: middle;\n",
       "    }\n",
       "\n",
       "    .dataframe tbody tr th {\n",
       "        vertical-align: top;\n",
       "    }\n",
       "\n",
       "    .dataframe thead th {\n",
       "        text-align: right;\n",
       "    }\n",
       "</style>\n",
       "<table border=\"1\" class=\"dataframe\">\n",
       "  <thead>\n",
       "    <tr style=\"text-align: right;\">\n",
       "      <th></th>\n",
       "      <th>title_text_combined</th>\n",
       "      <th>response</th>\n",
       "    </tr>\n",
       "  </thead>\n",
       "  <tbody>\n",
       "    <tr>\n",
       "      <th>0</th>\n",
       "      <td>u.s. budget fight loom republican flip fiscal ...</td>\n",
       "      <td>1</td>\n",
       "    </tr>\n",
       "    <tr>\n",
       "      <th>1</th>\n",
       "      <td>u.s. militari accept transgend recruit monday ...</td>\n",
       "      <td>1</td>\n",
       "    </tr>\n",
       "    <tr>\n",
       "      <th>2</th>\n",
       "      <td>senior u.s. republican senat 'let mr. mueller ...</td>\n",
       "      <td>1</td>\n",
       "    </tr>\n",
       "    <tr>\n",
       "      <th>3</th>\n",
       "      <td>fbi russia probe help australian diplomat tip-...</td>\n",
       "      <td>1</td>\n",
       "    </tr>\n",
       "    <tr>\n",
       "      <th>4</th>\n",
       "      <td>trump want postal servic charg 'much amazon sh...</td>\n",
       "      <td>1</td>\n",
       "    </tr>\n",
       "  </tbody>\n",
       "</table>\n",
       "</div>"
      ],
      "text/plain": [
       "                                 title_text_combined  response\n",
       "0  u.s. budget fight loom republican flip fiscal ...         1\n",
       "1  u.s. militari accept transgend recruit monday ...         1\n",
       "2  senior u.s. republican senat 'let mr. mueller ...         1\n",
       "3  fbi russia probe help australian diplomat tip-...         1\n",
       "4  trump want postal servic charg 'much amazon sh...         1"
      ]
     },
     "execution_count": 31,
     "metadata": {},
     "output_type": "execute_result"
    }
   ],
   "source": [
    "merged_df.head()"
   ]
  },
  {
   "cell_type": "code",
   "execution_count": 32,
   "id": "32266271",
   "metadata": {},
   "outputs": [],
   "source": [
    "# merged_df.to_csv('preprocessed_data.csv', index=False)"
   ]
  },
  {
   "cell_type": "code",
   "execution_count": null,
   "id": "6f220409",
   "metadata": {},
   "outputs": [],
   "source": []
  },
  {
   "cell_type": "code",
   "execution_count": null,
   "id": "d5049fc6",
   "metadata": {},
   "outputs": [],
   "source": [
    "# using tf-idf vectorizer "
   ]
  },
  {
   "cell_type": "code",
   "execution_count": 33,
   "id": "e710ee82",
   "metadata": {},
   "outputs": [],
   "source": [
    "from sklearn.model_selection import train_test_split\n",
    "from sklearn.feature_extraction.text import TfidfVectorizer\n",
    "from sklearn.preprocessing import StandardScaler\n",
    "from tensorflow.keras.models import Model\n",
    "from tensorflow.keras.layers import Input, Dense"
   ]
  },
  {
   "cell_type": "code",
   "execution_count": 71,
   "id": "8eef956f",
   "metadata": {},
   "outputs": [],
   "source": [
    "train_df, test_df = train_test_split(merged_df, test_size=0.2, random_state=42)\n",
    "train_df, val_df = train_test_split(train_df, test_size=0.1, random_state=42)"
   ]
  },
  {
   "cell_type": "code",
   "execution_count": 72,
   "id": "f2994fbb",
   "metadata": {},
   "outputs": [],
   "source": [
    "tfidf_vectorizer = TfidfVectorizer(max_features=5000)"
   ]
  },
  {
   "cell_type": "code",
   "execution_count": 73,
   "id": "09afa7dc",
   "metadata": {},
   "outputs": [],
   "source": [
    "X_train_tfidf = tfidf_vectorizer.fit_transform(train_df['title_text_combined'])\n",
    "X_val_tfidf = tfidf_vectorizer.transform(val_df['title_text_combined'])\n",
    "X_test_tfidf = tfidf_vectorizer.transform(test_df['title_text_combined'])"
   ]
  },
  {
   "cell_type": "code",
   "execution_count": 74,
   "id": "4f3c672b",
   "metadata": {},
   "outputs": [],
   "source": [
    "scaler = StandardScaler()\n",
    "X_train_scaled = scaler.fit_transform(X_train_tfidf.toarray())\n",
    "X_val_scaled = scaler.transform(X_val_tfidf.toarray())\n",
    "X_test_scaled = scaler.transform(X_test_tfidf.toarray())"
   ]
  },
  {
   "cell_type": "code",
   "execution_count": 75,
   "id": "1ae5374f",
   "metadata": {},
   "outputs": [],
   "source": [
    "input_dim = X_train_scaled.shape[1]\n",
    "encoding_dim = 64  "
   ]
  },
  {
   "cell_type": "code",
   "execution_count": 76,
   "id": "533b69de",
   "metadata": {},
   "outputs": [],
   "source": [
    "input_layer = Input(shape=(input_dim,))\n",
    "encoder = Dense(encoding_dim, activation='relu')(input_layer)\n",
    "decoder = Dense(input_dim, activation='sigmoid')(encoder)\n",
    "autoencoder = Model(inputs=input_layer, outputs=decoder)"
   ]
  },
  {
   "cell_type": "code",
   "execution_count": 77,
   "id": "f8df76b9",
   "metadata": {},
   "outputs": [],
   "source": [
    "autoencoder.compile(optimizer='adam', loss='binary_crossentropy')"
   ]
  },
  {
   "cell_type": "code",
   "execution_count": 78,
   "id": "462c180f",
   "metadata": {},
   "outputs": [
    {
     "name": "stdout",
     "output_type": "stream",
     "text": [
      "Epoch 1/15\n",
      "1011/1011 [==============================] - 11s 9ms/step - loss: -26.6787 - val_loss: -90.5596\n",
      "Epoch 2/15\n",
      "1011/1011 [==============================] - 9s 9ms/step - loss: -222.1297 - val_loss: -364.3251\n",
      "Epoch 3/15\n",
      "1011/1011 [==============================] - 8s 8ms/step - loss: -576.9233 - val_loss: -767.3923\n",
      "Epoch 4/15\n",
      "1011/1011 [==============================] - 8s 8ms/step - loss: -1054.3383 - val_loss: -1279.2264\n",
      "Epoch 5/15\n",
      "1011/1011 [==============================] - 8s 8ms/step - loss: -1639.0142 - val_loss: -1889.0770\n",
      "Epoch 6/15\n",
      "1011/1011 [==============================] - 8s 8ms/step - loss: -2325.9404 - val_loss: -2595.8101\n",
      "Epoch 7/15\n",
      "1011/1011 [==============================] - 8s 8ms/step - loss: -3111.4651 - val_loss: -3394.7822\n",
      "Epoch 8/15\n",
      "1011/1011 [==============================] - 8s 8ms/step - loss: -3993.6738 - val_loss: -4288.0254\n",
      "Epoch 9/15\n",
      "1011/1011 [==============================] - 8s 8ms/step - loss: -4971.1040 - val_loss: -5270.1299\n",
      "Epoch 10/15\n",
      "1011/1011 [==============================] - 8s 8ms/step - loss: -6043.8027 - val_loss: -6343.3188\n",
      "Epoch 11/15\n",
      "1011/1011 [==============================] - 8s 8ms/step - loss: -7208.6885 - val_loss: -7505.4658\n",
      "Epoch 12/15\n",
      "1011/1011 [==============================] - 8s 8ms/step - loss: -8469.3516 - val_loss: -8759.5586\n",
      "Epoch 13/15\n",
      "1011/1011 [==============================] - 8s 8ms/step - loss: -9824.6885 - val_loss: -10103.3174\n",
      "Epoch 14/15\n",
      "1011/1011 [==============================] - 8s 8ms/step - loss: -11273.7451 - val_loss: -11537.8311\n",
      "Epoch 15/15\n",
      "1011/1011 [==============================] - 8s 8ms/step - loss: -12817.1133 - val_loss: -13061.3740\n"
     ]
    },
    {
     "data": {
      "text/plain": [
       "<keras.callbacks.History at 0x7fa0810ce910>"
      ]
     },
     "execution_count": 78,
     "metadata": {},
     "output_type": "execute_result"
    }
   ],
   "source": [
    "autoencoder.fit(X_train_scaled, X_train_scaled,\n",
    "                epochs=15,\n",
    "                batch_size=32,\n",
    "                shuffle=True,\n",
    "                validation_data=(X_val_scaled, X_val_scaled))"
   ]
  },
  {
   "cell_type": "code",
   "execution_count": 79,
   "id": "a09c24c5",
   "metadata": {},
   "outputs": [
    {
     "name": "stdout",
     "output_type": "stream",
     "text": [
      "1011/1011 [==============================] - 2s 2ms/step\n",
      "113/113 [==============================] - 0s 2ms/step\n",
      "281/281 [==============================] - 0s 2ms/step\n"
     ]
    }
   ],
   "source": [
    "encoder_model = Model(inputs=input_layer, outputs=encoder)\n",
    "encoded_train = encoder_model.predict(X_train_scaled)\n",
    "encoded_val = encoder_model.predict(X_val_scaled)\n",
    "encoded_test = encoder_model.predict(X_test_scaled)"
   ]
  },
  {
   "cell_type": "code",
   "execution_count": 80,
   "id": "8c5450ab",
   "metadata": {},
   "outputs": [],
   "source": [
    "classification_input = Input(shape=(encoding_dim,))\n",
    "classification_output = Dense(1, activation='sigmoid')(classification_input)\n",
    "\n",
    "classifier = Model(inputs=classification_input, outputs=classification_output)"
   ]
  },
  {
   "cell_type": "code",
   "execution_count": 81,
   "id": "09aefdc2",
   "metadata": {},
   "outputs": [
    {
     "name": "stdout",
     "output_type": "stream",
     "text": [
      "Epoch 1/20\n",
      "1011/1011 [==============================] - 2s 2ms/step - loss: 53.9890 - accuracy: 0.8254 - val_loss: 6.3227 - val_accuracy: 0.8338\n",
      "Epoch 2/20\n",
      "1011/1011 [==============================] - 2s 2ms/step - loss: 4.9938 - accuracy: 0.8611 - val_loss: 4.5904 - val_accuracy: 0.8608\n",
      "Epoch 3/20\n",
      "1011/1011 [==============================] - 2s 2ms/step - loss: 4.1269 - accuracy: 0.8653 - val_loss: 4.4011 - val_accuracy: 0.8711\n",
      "Epoch 4/20\n",
      "1011/1011 [==============================] - 1s 1ms/step - loss: 3.6980 - accuracy: 0.8688 - val_loss: 4.5515 - val_accuracy: 0.8483\n",
      "Epoch 5/20\n",
      "1011/1011 [==============================] - 2s 2ms/step - loss: 3.2419 - accuracy: 0.8716 - val_loss: 2.9045 - val_accuracy: 0.8736\n",
      "Epoch 6/20\n",
      "1011/1011 [==============================] - 1s 1ms/step - loss: 3.0050 - accuracy: 0.8720 - val_loss: 3.0769 - val_accuracy: 0.8705\n",
      "Epoch 7/20\n",
      "1011/1011 [==============================] - 1s 1ms/step - loss: 2.6153 - accuracy: 0.8745 - val_loss: 2.3739 - val_accuracy: 0.8822\n",
      "Epoch 8/20\n",
      "1011/1011 [==============================] - 1s 1ms/step - loss: 2.4910 - accuracy: 0.8757 - val_loss: 3.5094 - val_accuracy: 0.8391\n",
      "Epoch 9/20\n",
      "1011/1011 [==============================] - 1s 1ms/step - loss: 2.4861 - accuracy: 0.8765 - val_loss: 2.1747 - val_accuracy: 0.8792\n",
      "Epoch 10/20\n",
      "1011/1011 [==============================] - 1s 1ms/step - loss: 2.3301 - accuracy: 0.8755 - val_loss: 1.8651 - val_accuracy: 0.8767\n",
      "Epoch 11/20\n",
      "1011/1011 [==============================] - 2s 2ms/step - loss: 2.0493 - accuracy: 0.8787 - val_loss: 4.8411 - val_accuracy: 0.8650\n",
      "Epoch 12/20\n",
      "1011/1011 [==============================] - 2s 2ms/step - loss: 2.0005 - accuracy: 0.8790 - val_loss: 2.2075 - val_accuracy: 0.8806\n",
      "Epoch 13/20\n",
      "1011/1011 [==============================] - 1s 1ms/step - loss: 1.9377 - accuracy: 0.8800 - val_loss: 1.3965 - val_accuracy: 0.8817\n",
      "Epoch 14/20\n",
      "1011/1011 [==============================] - 2s 2ms/step - loss: 2.0052 - accuracy: 0.8792 - val_loss: 1.6700 - val_accuracy: 0.8811\n",
      "Epoch 15/20\n",
      "1011/1011 [==============================] - 2s 1ms/step - loss: 1.8423 - accuracy: 0.8803 - val_loss: 1.3745 - val_accuracy: 0.8828\n",
      "Epoch 16/20\n",
      "1011/1011 [==============================] - 2s 2ms/step - loss: 1.7674 - accuracy: 0.8830 - val_loss: 1.3849 - val_accuracy: 0.8786\n",
      "Epoch 17/20\n",
      "1011/1011 [==============================] - 2s 2ms/step - loss: 1.8146 - accuracy: 0.8833 - val_loss: 1.7664 - val_accuracy: 0.8898\n",
      "Epoch 18/20\n",
      "1011/1011 [==============================] - 1s 1ms/step - loss: 1.9435 - accuracy: 0.8831 - val_loss: 2.5955 - val_accuracy: 0.8708\n",
      "Epoch 19/20\n",
      "1011/1011 [==============================] - 1s 1ms/step - loss: 1.6003 - accuracy: 0.8825 - val_loss: 1.3335 - val_accuracy: 0.8884\n",
      "Epoch 20/20\n",
      "1011/1011 [==============================] - 2s 2ms/step - loss: 1.8895 - accuracy: 0.8824 - val_loss: 1.1875 - val_accuracy: 0.8909\n"
     ]
    },
    {
     "data": {
      "text/plain": [
       "<keras.callbacks.History at 0x7fa155842d90>"
      ]
     },
     "execution_count": 81,
     "metadata": {},
     "output_type": "execute_result"
    }
   ],
   "source": [
    "classifier.compile(optimizer='adam', loss='binary_crossentropy', metrics=['accuracy'])\n",
    "classifier.fit(encoded_train, train_df['response'], epochs=20, batch_size=32, validation_data=(encoded_val, val_df['response']))"
   ]
  },
  {
   "cell_type": "code",
   "execution_count": 82,
   "id": "255677e1",
   "metadata": {},
   "outputs": [
    {
     "name": "stdout",
     "output_type": "stream",
     "text": [
      "281/281 [==============================] - 0s 1ms/step - loss: 1.0178 - accuracy: 0.9004\n",
      "Test Accuracy: 0.9004454612731934\n"
     ]
    }
   ],
   "source": [
    "loss, accuracy = classifier.evaluate(encoded_test, test_df['response'])\n",
    "print(\"Test Accuracy:\", accuracy)"
   ]
  },
  {
   "cell_type": "code",
   "execution_count": null,
   "id": "777a008a",
   "metadata": {},
   "outputs": [],
   "source": []
  },
  {
   "cell_type": "code",
   "execution_count": null,
   "id": "b8810f7c",
   "metadata": {},
   "outputs": [],
   "source": [
    "# using word2vec vectorizer"
   ]
  },
  {
   "cell_type": "code",
   "execution_count": 83,
   "id": "587ef708",
   "metadata": {},
   "outputs": [],
   "source": [
    "from gensim.models import Word2Vec"
   ]
  },
  {
   "cell_type": "code",
   "execution_count": 84,
   "id": "5e95d051",
   "metadata": {},
   "outputs": [],
   "source": [
    "sentences = [text.split() for text in train_df['title_text_combined']]\n",
    "word2vec_model = Word2Vec(sentences, vector_size=100, window=5, min_count=1, workers=4)"
   ]
  },
  {
   "cell_type": "code",
   "execution_count": 85,
   "id": "942d72fe",
   "metadata": {},
   "outputs": [],
   "source": [
    "def vectorize_sentence(sentence, model):\n",
    "    vectors = [model.wv[word] for word in sentence if word in model.wv]\n",
    "    if len(vectors) > 0:\n",
    "        return np.mean(vectors, axis=0)\n",
    "    else:\n",
    "        return np.zeros(model.vector_size)"
   ]
  },
  {
   "cell_type": "code",
   "execution_count": 86,
   "id": "0492ba6f",
   "metadata": {},
   "outputs": [],
   "source": [
    "X_train = np.array([vectorize_sentence(sentence.split(), word2vec_model) for sentence in train_df['title_text_combined']])\n",
    "X_val = np.array([vectorize_sentence(sentence.split(), word2vec_model) for sentence in val_df['title_text_combined']])\n",
    "X_test = np.array([vectorize_sentence(sentence.split(), word2vec_model) for sentence in test_df['title_text_combined']])"
   ]
  },
  {
   "cell_type": "code",
   "execution_count": 87,
   "id": "50a690d6",
   "metadata": {},
   "outputs": [],
   "source": [
    "input_dim = X_train.shape[1]\n",
    "encoding_dim = 64 "
   ]
  },
  {
   "cell_type": "code",
   "execution_count": 88,
   "id": "50e2f7c8",
   "metadata": {},
   "outputs": [],
   "source": [
    "input_layer = Input(shape=(input_dim,))\n",
    "encoder = Dense(encoding_dim, activation='relu')(input_layer)\n",
    "decoder = Dense(input_dim, activation='sigmoid')(encoder)"
   ]
  },
  {
   "cell_type": "code",
   "execution_count": 89,
   "id": "5d98460e",
   "metadata": {},
   "outputs": [],
   "source": [
    "autoencoder = Model(inputs=input_layer, outputs=decoder)"
   ]
  },
  {
   "cell_type": "code",
   "execution_count": 90,
   "id": "f1048ec7",
   "metadata": {},
   "outputs": [],
   "source": [
    "autoencoder.compile(optimizer='adam', loss='binary_crossentropy')"
   ]
  },
  {
   "cell_type": "code",
   "execution_count": 91,
   "id": "27171610",
   "metadata": {},
   "outputs": [
    {
     "name": "stdout",
     "output_type": "stream",
     "text": [
      "Epoch 1/15\n",
      "1011/1011 [==============================] - 2s 2ms/step - loss: -347.3407 - val_loss: -1069.4347\n",
      "Epoch 2/15\n",
      "1011/1011 [==============================] - 2s 2ms/step - loss: -2327.3132 - val_loss: -3960.0476\n",
      "Epoch 3/15\n",
      "1011/1011 [==============================] - 2s 2ms/step - loss: -5856.0854 - val_loss: -8236.3174\n",
      "Epoch 4/15\n",
      "1011/1011 [==============================] - 2s 2ms/step - loss: -10611.4307 - val_loss: -13669.4980\n",
      "Epoch 5/15\n",
      "1011/1011 [==============================] - 2s 2ms/step - loss: -16441.3418 - val_loss: -20153.4492\n",
      "Epoch 6/15\n",
      "1011/1011 [==============================] - 1s 1ms/step - loss: -23271.4824 - val_loss: -27639.5820\n",
      "Epoch 7/15\n",
      "1011/1011 [==============================] - 2s 1ms/step - loss: -31063.6074 - val_loss: -36097.9023\n",
      "Epoch 8/15\n",
      "1011/1011 [==============================] - 1s 1ms/step - loss: -39806.3242 - val_loss: -45525.2578\n",
      "Epoch 9/15\n",
      "1011/1011 [==============================] - 2s 1ms/step - loss: -49475.1914 - val_loss: -55882.5508\n",
      "Epoch 10/15\n",
      "1011/1011 [==============================] - 1s 1ms/step - loss: -60069.6445 - val_loss: -67200.1328\n",
      "Epoch 11/15\n",
      "1011/1011 [==============================] - 2s 2ms/step - loss: -71575.1406 - val_loss: -79427.5625\n",
      "Epoch 12/15\n",
      "1011/1011 [==============================] - 2s 2ms/step - loss: -83989.1172 - val_loss: -92600.8125\n",
      "Epoch 13/15\n",
      "1011/1011 [==============================] - 2s 2ms/step - loss: -97318.4453 - val_loss: -106698.0469\n",
      "Epoch 14/15\n",
      "1011/1011 [==============================] - 2s 2ms/step - loss: -111543.2812 - val_loss: -121713.4453\n",
      "Epoch 15/15\n",
      "1011/1011 [==============================] - 2s 2ms/step - loss: -126667.5547 - val_loss: -137645.9219\n"
     ]
    },
    {
     "data": {
      "text/plain": [
       "<keras.callbacks.History at 0x7fa050181820>"
      ]
     },
     "execution_count": 91,
     "metadata": {},
     "output_type": "execute_result"
    }
   ],
   "source": [
    "autoencoder.fit(X_train, X_train,\n",
    "                epochs=15,\n",
    "                batch_size=32,\n",
    "                shuffle=True,\n",
    "                validation_data=(X_val, X_val))"
   ]
  },
  {
   "cell_type": "code",
   "execution_count": 92,
   "id": "04eaf0d0",
   "metadata": {},
   "outputs": [
    {
     "name": "stdout",
     "output_type": "stream",
     "text": [
      "1011/1011 [==============================] - 1s 889us/step\n",
      "113/113 [==============================] - 0s 1ms/step\n",
      "281/281 [==============================] - 0s 1ms/step\n"
     ]
    }
   ],
   "source": [
    "encoder_model = Model(inputs=input_layer, outputs=encoder)\n",
    "encoded_train = encoder_model.predict(X_train)\n",
    "encoded_val = encoder_model.predict(X_val)\n",
    "encoded_test = encoder_model.predict(X_test)"
   ]
  },
  {
   "cell_type": "code",
   "execution_count": 93,
   "id": "c57b185b",
   "metadata": {},
   "outputs": [],
   "source": [
    "classification_input = Input(shape=(encoding_dim,))\n",
    "classification_output = Dense(1, activation='sigmoid')(classification_input)\n",
    "\n",
    "classifier = Model(inputs=classification_input, outputs=classification_output)"
   ]
  },
  {
   "cell_type": "code",
   "execution_count": 96,
   "id": "bf09516e",
   "metadata": {},
   "outputs": [
    {
     "name": "stdout",
     "output_type": "stream",
     "text": [
      "Epoch 1/20\n",
      "1011/1011 [==============================] - 2s 1ms/step - loss: 0.9994 - accuracy: 0.6510 - val_loss: 0.9880 - val_accuracy: 0.5693\n",
      "Epoch 2/20\n",
      "1011/1011 [==============================] - 2s 2ms/step - loss: 0.9398 - accuracy: 0.6483 - val_loss: 0.4205 - val_accuracy: 0.8126\n",
      "Epoch 3/20\n",
      "1011/1011 [==============================] - 2s 2ms/step - loss: 0.8143 - accuracy: 0.6658 - val_loss: 0.8356 - val_accuracy: 0.6030\n",
      "Epoch 4/20\n",
      "1011/1011 [==============================] - 1s 1ms/step - loss: 0.8520 - accuracy: 0.6654 - val_loss: 0.7468 - val_accuracy: 0.6281\n",
      "Epoch 5/20\n",
      "1011/1011 [==============================] - 1s 1ms/step - loss: 0.8026 - accuracy: 0.6694 - val_loss: 0.5323 - val_accuracy: 0.7155\n",
      "Epoch 6/20\n",
      "1011/1011 [==============================] - 3s 3ms/step - loss: 0.8544 - accuracy: 0.6692 - val_loss: 0.4529 - val_accuracy: 0.7617\n",
      "Epoch 7/20\n",
      "1011/1011 [==============================] - 2s 2ms/step - loss: 0.7925 - accuracy: 0.6740 - val_loss: 1.5964 - val_accuracy: 0.5398\n",
      "Epoch 8/20\n",
      "1011/1011 [==============================] - 1s 1ms/step - loss: 0.8405 - accuracy: 0.6633 - val_loss: 1.4722 - val_accuracy: 0.5426\n",
      "Epoch 9/20\n",
      "1011/1011 [==============================] - 1s 1ms/step - loss: 0.8805 - accuracy: 0.6675 - val_loss: 0.6328 - val_accuracy: 0.6300\n",
      "Epoch 10/20\n",
      "1011/1011 [==============================] - 1s 1ms/step - loss: 0.8219 - accuracy: 0.6791 - val_loss: 1.7981 - val_accuracy: 0.4805\n",
      "Epoch 11/20\n",
      "1011/1011 [==============================] - 1s 1ms/step - loss: 0.8399 - accuracy: 0.6654 - val_loss: 0.4457 - val_accuracy: 0.7945\n",
      "Epoch 12/20\n",
      "1011/1011 [==============================] - 1s 1ms/step - loss: 0.9660 - accuracy: 0.6660 - val_loss: 0.9928 - val_accuracy: 0.5766\n",
      "Epoch 13/20\n",
      "1011/1011 [==============================] - 2s 2ms/step - loss: 0.8014 - accuracy: 0.6792 - val_loss: 0.8288 - val_accuracy: 0.6105\n",
      "Epoch 14/20\n",
      "1011/1011 [==============================] - 2s 2ms/step - loss: 0.7904 - accuracy: 0.6774 - val_loss: 1.7187 - val_accuracy: 0.4855\n",
      "Epoch 15/20\n",
      "1011/1011 [==============================] - 2s 2ms/step - loss: 0.8954 - accuracy: 0.6763 - val_loss: 0.4000 - val_accuracy: 0.8076\n",
      "Epoch 16/20\n",
      "1011/1011 [==============================] - 2s 2ms/step - loss: 0.7754 - accuracy: 0.6944 - val_loss: 0.4793 - val_accuracy: 0.7383\n",
      "Epoch 17/20\n",
      "1011/1011 [==============================] - 1s 1ms/step - loss: 0.7392 - accuracy: 0.6879 - val_loss: 2.2169 - val_accuracy: 0.5342\n",
      "Epoch 18/20\n",
      "1011/1011 [==============================] - 2s 2ms/step - loss: 0.9563 - accuracy: 0.6728 - val_loss: 2.7174 - val_accuracy: 0.5340\n",
      "Epoch 19/20\n",
      "1011/1011 [==============================] - 1s 1ms/step - loss: 0.7119 - accuracy: 0.6928 - val_loss: 1.0000 - val_accuracy: 0.5813\n",
      "Epoch 20/20\n",
      "1011/1011 [==============================] - 2s 2ms/step - loss: 0.7608 - accuracy: 0.6914 - val_loss: 0.4582 - val_accuracy: 0.7756\n"
     ]
    },
    {
     "data": {
      "text/plain": [
       "<keras.callbacks.History at 0x7fa15587d760>"
      ]
     },
     "execution_count": 96,
     "metadata": {},
     "output_type": "execute_result"
    }
   ],
   "source": [
    "classifier.compile(optimizer='adam', loss='binary_crossentropy', metrics=['accuracy'])\n",
    "classifier.fit(encoded_train, train_df['response'], epochs=20, batch_size=32, validation_data=(encoded_val, val_df['response']))\n"
   ]
  },
  {
   "cell_type": "code",
   "execution_count": 97,
   "id": "c0be095d",
   "metadata": {},
   "outputs": [
    {
     "name": "stdout",
     "output_type": "stream",
     "text": [
      "281/281 [==============================] - 0s 1ms/step - loss: 0.4404 - accuracy: 0.7869\n",
      "Test Accuracy: 0.7868596911430359\n"
     ]
    }
   ],
   "source": [
    "loss, accuracy = classifier.evaluate(encoded_test, test_df['response'])\n",
    "print(\"Test Accuracy:\", accuracy)"
   ]
  },
  {
   "cell_type": "code",
   "execution_count": null,
   "id": "966dafbb",
   "metadata": {},
   "outputs": [],
   "source": []
  },
  {
   "cell_type": "code",
   "execution_count": null,
   "id": "f712c4b3",
   "metadata": {},
   "outputs": [],
   "source": []
  },
  {
   "cell_type": "code",
   "execution_count": null,
   "id": "0kaLjYCdZc_F",
   "metadata": {
    "id": "0kaLjYCdZc_F"
   },
   "outputs": [],
   "source": []
  }
 ],
 "metadata": {
  "colab": {
   "provenance": []
  },
  "kaggle": {
   "accelerator": "nvidiaTeslaT4",
   "dataSources": [
    {
     "datasetId": 890123,
     "sourceId": 1510812,
     "sourceType": "datasetVersion"
    }
   ],
   "dockerImageVersionId": 30648,
   "isGpuEnabled": true,
   "isInternetEnabled": true,
   "language": "python",
   "sourceType": "notebook"
  },
  "kernelspec": {
   "display_name": "Python 3",
   "language": "python",
   "name": "python3"
  },
  "language_info": {
   "codemirror_mode": {
    "name": "ipython",
    "version": 3
   },
   "file_extension": ".py",
   "mimetype": "text/x-python",
   "name": "python",
   "nbconvert_exporter": "python",
   "pygments_lexer": "ipython3",
   "version": "3.8.5"
  },
  "papermill": {
   "default_parameters": {},
   "duration": 169.390308,
   "end_time": "2024-02-13T19:42:28.407650",
   "environment_variables": {},
   "exception": null,
   "input_path": "__notebook__.ipynb",
   "output_path": "__notebook__.ipynb",
   "parameters": {},
   "start_time": "2024-02-13T19:39:39.017342",
   "version": "2.5.0"
  }
 },
 "nbformat": 4,
 "nbformat_minor": 5
}
